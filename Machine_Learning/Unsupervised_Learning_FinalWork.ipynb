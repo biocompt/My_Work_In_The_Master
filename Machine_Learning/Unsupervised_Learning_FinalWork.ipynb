{
  "nbformat": 4,
  "nbformat_minor": 0,
  "metadata": {
    "colab": {
      "name": "Unsupervised Learning.ipynb",
      "provenance": [],
      "collapsed_sections": []
    },
    "kernelspec": {
      "name": "python3",
      "display_name": "Python 3"
    },
    "language_info": {
      "name": "python"
    }
  },
  "cells": [
    {
      "cell_type": "markdown",
      "source": [
        "#**Unsupervised Learning Assignment**\n",
        "\n",
        "In this Jupyter Notebook, you can find the code that I've used to create the dendrograms and to calculate the optimal number of clusters. The notebook is divided in 2 parts: the first one where I load and process all the data and the second part where I calculate all the things that you required us."
      ],
      "metadata": {
        "id": "sBlvIdnfZSNG"
      }
    },
    {
      "cell_type": "markdown",
      "source": [
        "First of all, let's import all the functions that we need to work with:"
      ],
      "metadata": {
        "id": "2PC12yvCaEEV"
      }
    },
    {
      "cell_type": "code",
      "execution_count": 1,
      "metadata": {
        "id": "DayK1oS307np"
      },
      "outputs": [],
      "source": [
        "import pandas as pd # To work with dataframes\n",
        "import numpy as np # To work with arrays\n",
        "import seaborn as sns # To make scatterplot\n",
        "from scipy.cluster import hierarchy # To make hierarchical clustering\n",
        "from scipy.cluster.hierarchy import dendrogram # To make the dendograms\n",
        "from sklearn.cluster import KMeans # KMeans function\n",
        "from sklearn.metrics import silhouette_score # To choose the best parameter K\n",
        "import matplotlib.pyplot as plt # To plot dendograms and elbow plots\n",
        "from yellowbrick.cluster import SilhouetteVisualizer # To plot Silouhette score"
      ]
    },
    {
      "cell_type": "markdown",
      "source": [
        "## **Data management**\n",
        "\n",
        "To do our job, first we need to load our data and prepare it."
      ],
      "metadata": {
        "id": "2H6uuY9IaNDQ"
      }
    },
    {
      "cell_type": "code",
      "source": [
        "df = pd.read_csv('drive/MyDrive/Colab Notebooks/nci_var_filtered.csv', header = 'infer', sep = '\\t')\n",
        "df.head(5)"
      ],
      "metadata": {
        "colab": {
          "base_uri": "https://localhost:8080/",
          "height": 288
        },
        "id": "dk1eq13D60A8",
        "outputId": "19d9f0b1-3383-4d6d-fcda-1c8be41e13e1"
      },
      "execution_count": 2,
      "outputs": [
        {
          "output_type": "execute_result",
          "data": {
            "text/html": [
              "\n",
              "  <div id=\"df-16db9bb7-c8a1-4b0a-8483-3a705523240e\">\n",
              "    <div class=\"colab-df-container\">\n",
              "      <div>\n",
              "<style scoped>\n",
              "    .dataframe tbody tr th:only-of-type {\n",
              "        vertical-align: middle;\n",
              "    }\n",
              "\n",
              "    .dataframe tbody tr th {\n",
              "        vertical-align: top;\n",
              "    }\n",
              "\n",
              "    .dataframe thead th {\n",
              "        text-align: right;\n",
              "    }\n",
              "</style>\n",
              "<table border=\"1\" class=\"dataframe\">\n",
              "  <thead>\n",
              "    <tr style=\"text-align: right;\">\n",
              "      <th></th>\n",
              "      <th>gene</th>\n",
              "      <th>786-0</th>\n",
              "      <th>A498</th>\n",
              "      <th>A549</th>\n",
              "      <th>ACHN</th>\n",
              "      <th>BT-549</th>\n",
              "      <th>CAKI-1</th>\n",
              "      <th>CCRF-CEM</th>\n",
              "      <th>COLO205</th>\n",
              "      <th>DU-145</th>\n",
              "      <th>EKVX</th>\n",
              "      <th>HCC-2998</th>\n",
              "      <th>HCT-116</th>\n",
              "      <th>HCT-15</th>\n",
              "      <th>HL-60</th>\n",
              "      <th>HOP-62</th>\n",
              "      <th>HOP-92</th>\n",
              "      <th>HS-578T</th>\n",
              "      <th>HT29</th>\n",
              "      <th>IGR-OV1</th>\n",
              "      <th>K-562</th>\n",
              "      <th>KM12</th>\n",
              "      <th>LOX-IMVI</th>\n",
              "      <th>M14</th>\n",
              "      <th>MALME-3M</th>\n",
              "      <th>MCF7</th>\n",
              "      <th>MDA-MB-231</th>\n",
              "      <th>MDA-MB-435</th>\n",
              "      <th>MDA-MB-468</th>\n",
              "      <th>MOLT-4</th>\n",
              "      <th>NCI-ADR-RES</th>\n",
              "      <th>NCI-H226</th>\n",
              "      <th>NCI-H23</th>\n",
              "      <th>NCI-H322M</th>\n",
              "      <th>NCI-H460</th>\n",
              "      <th>NCI-H522</th>\n",
              "      <th>OVCAR-3</th>\n",
              "      <th>OVCAR-4</th>\n",
              "      <th>OVCAR-5</th>\n",
              "      <th>OVCAR-8</th>\n",
              "      <th>PC-3</th>\n",
              "      <th>RPMI-8226</th>\n",
              "      <th>RXF-393</th>\n",
              "      <th>SF-268</th>\n",
              "      <th>SF-295</th>\n",
              "      <th>SF-539</th>\n",
              "      <th>SK-MEL-2</th>\n",
              "      <th>SK-MEL-28</th>\n",
              "      <th>SK-MEL-5</th>\n",
              "      <th>SK-OV-3</th>\n",
              "      <th>SN12C</th>\n",
              "      <th>SNB-19</th>\n",
              "      <th>SNB-75</th>\n",
              "      <th>SR</th>\n",
              "      <th>SW-620</th>\n",
              "      <th>T-47D</th>\n",
              "      <th>TK-10</th>\n",
              "      <th>U251</th>\n",
              "      <th>UACC-257</th>\n",
              "      <th>UACC-62</th>\n",
              "      <th>UO-31</th>\n",
              "    </tr>\n",
              "  </thead>\n",
              "  <tbody>\n",
              "    <tr>\n",
              "      <th>0</th>\n",
              "      <td>A1BG</td>\n",
              "      <td>-1.025477</td>\n",
              "      <td>-0.925477</td>\n",
              "      <td>0.274523</td>\n",
              "      <td>-0.875477</td>\n",
              "      <td>2.484523</td>\n",
              "      <td>1.244523</td>\n",
              "      <td>1.914523</td>\n",
              "      <td>-1.025477</td>\n",
              "      <td>0.584523</td>\n",
              "      <td>0.094523</td>\n",
              "      <td>-0.795477</td>\n",
              "      <td>-0.915477</td>\n",
              "      <td>-0.955477</td>\n",
              "      <td>-0.625477</td>\n",
              "      <td>0.584523</td>\n",
              "      <td>1.394523</td>\n",
              "      <td>2.754523</td>\n",
              "      <td>-0.965477</td>\n",
              "      <td>0.604523</td>\n",
              "      <td>0.564523</td>\n",
              "      <td>-0.845477</td>\n",
              "      <td>-1.025477</td>\n",
              "      <td>0.684523</td>\n",
              "      <td>1.984523</td>\n",
              "      <td>1.594523</td>\n",
              "      <td>0.414523</td>\n",
              "      <td>1.154523</td>\n",
              "      <td>0.684523</td>\n",
              "      <td>1.644523</td>\n",
              "      <td>0.834523</td>\n",
              "      <td>0.124523</td>\n",
              "      <td>0.324523</td>\n",
              "      <td>1.414523</td>\n",
              "      <td>-0.005477</td>\n",
              "      <td>1.524523</td>\n",
              "      <td>0.914523</td>\n",
              "      <td>-0.035477</td>\n",
              "      <td>-1.015477</td>\n",
              "      <td>0.514523</td>\n",
              "      <td>-0.905477</td>\n",
              "      <td>-0.165477</td>\n",
              "      <td>1.014523</td>\n",
              "      <td>0.814523</td>\n",
              "      <td>1.424523</td>\n",
              "      <td>1.244523</td>\n",
              "      <td>1.554523</td>\n",
              "      <td>1.414523</td>\n",
              "      <td>1.114523</td>\n",
              "      <td>1.754523</td>\n",
              "      <td>2.074523</td>\n",
              "      <td>0.494523</td>\n",
              "      <td>-0.705477</td>\n",
              "      <td>0.914523</td>\n",
              "      <td>-0.885477</td>\n",
              "      <td>1.524523</td>\n",
              "      <td>-0.995477</td>\n",
              "      <td>0.314523</td>\n",
              "      <td>1.774523</td>\n",
              "      <td>2.104523</td>\n",
              "      <td>-0.665477</td>\n",
              "    </tr>\n",
              "    <tr>\n",
              "      <th>1</th>\n",
              "      <td>A2M</td>\n",
              "      <td>-1.409323</td>\n",
              "      <td>-1.409323</td>\n",
              "      <td>-1.409323</td>\n",
              "      <td>-1.409323</td>\n",
              "      <td>-1.409323</td>\n",
              "      <td>-1.399323</td>\n",
              "      <td>-1.299323</td>\n",
              "      <td>-1.409323</td>\n",
              "      <td>-1.399323</td>\n",
              "      <td>0.100677</td>\n",
              "      <td>-1.349323</td>\n",
              "      <td>-1.289323</td>\n",
              "      <td>-1.409323</td>\n",
              "      <td>-1.349323</td>\n",
              "      <td>-1.409323</td>\n",
              "      <td>-1.409323</td>\n",
              "      <td>-1.409323</td>\n",
              "      <td>-1.399323</td>\n",
              "      <td>-1.409323</td>\n",
              "      <td>-1.379323</td>\n",
              "      <td>-1.379323</td>\n",
              "      <td>-1.379323</td>\n",
              "      <td>2.260677</td>\n",
              "      <td>5.510677</td>\n",
              "      <td>-1.369323</td>\n",
              "      <td>-1.269323</td>\n",
              "      <td>-1.269323</td>\n",
              "      <td>2.380677</td>\n",
              "      <td>-1.399323</td>\n",
              "      <td>-1.399323</td>\n",
              "      <td>-0.379323</td>\n",
              "      <td>0.240677</td>\n",
              "      <td>-1.159323</td>\n",
              "      <td>-1.339323</td>\n",
              "      <td>-1.309323</td>\n",
              "      <td>-1.369323</td>\n",
              "      <td>-1.369323</td>\n",
              "      <td>-1.209323</td>\n",
              "      <td>-1.349323</td>\n",
              "      <td>-1.289323</td>\n",
              "      <td>-1.409323</td>\n",
              "      <td>-1.329323</td>\n",
              "      <td>-1.409323</td>\n",
              "      <td>-1.289323</td>\n",
              "      <td>0.250677</td>\n",
              "      <td>4.310677</td>\n",
              "      <td>6.570677</td>\n",
              "      <td>6.620677</td>\n",
              "      <td>-1.379323</td>\n",
              "      <td>-1.369323</td>\n",
              "      <td>-0.889323</td>\n",
              "      <td>-0.729323</td>\n",
              "      <td>-1.409323</td>\n",
              "      <td>-1.229323</td>\n",
              "      <td>-1.399323</td>\n",
              "      <td>-1.399323</td>\n",
              "      <td>-1.369323</td>\n",
              "      <td>5.630677</td>\n",
              "      <td>3.280677</td>\n",
              "      <td>-1.399323</td>\n",
              "    </tr>\n",
              "    <tr>\n",
              "      <th>2</th>\n",
              "      <td>A2ML1</td>\n",
              "      <td>-1.696062</td>\n",
              "      <td>-1.686062</td>\n",
              "      <td>-1.686062</td>\n",
              "      <td>-1.686062</td>\n",
              "      <td>-1.696062</td>\n",
              "      <td>-1.696062</td>\n",
              "      <td>-1.696062</td>\n",
              "      <td>-1.696062</td>\n",
              "      <td>-1.696062</td>\n",
              "      <td>-1.586062</td>\n",
              "      <td>-1.616062</td>\n",
              "      <td>-1.696062</td>\n",
              "      <td>-1.696062</td>\n",
              "      <td>-1.696062</td>\n",
              "      <td>-1.696062</td>\n",
              "      <td>-1.686062</td>\n",
              "      <td>-1.696062</td>\n",
              "      <td>-1.696062</td>\n",
              "      <td>-1.686062</td>\n",
              "      <td>-1.686062</td>\n",
              "      <td>1.733938</td>\n",
              "      <td>-1.626062</td>\n",
              "      <td>-1.686062</td>\n",
              "      <td>-1.616062</td>\n",
              "      <td>-1.696062</td>\n",
              "      <td>-1.696062</td>\n",
              "      <td>-1.636062</td>\n",
              "      <td>-1.296062</td>\n",
              "      <td>-1.696062</td>\n",
              "      <td>-1.696062</td>\n",
              "      <td>-1.696062</td>\n",
              "      <td>-1.686062</td>\n",
              "      <td>0.023938</td>\n",
              "      <td>-1.696062</td>\n",
              "      <td>-1.696062</td>\n",
              "      <td>-1.446062</td>\n",
              "      <td>-1.556062</td>\n",
              "      <td>-1.446062</td>\n",
              "      <td>-1.696062</td>\n",
              "      <td>-1.696062</td>\n",
              "      <td>-1.696062</td>\n",
              "      <td>-1.696062</td>\n",
              "      <td>-1.696062</td>\n",
              "      <td>-1.696062</td>\n",
              "      <td>-1.686062</td>\n",
              "      <td>-1.546062</td>\n",
              "      <td>-1.506062</td>\n",
              "      <td>-1.546062</td>\n",
              "      <td>-1.696062</td>\n",
              "      <td>-1.696062</td>\n",
              "      <td>-1.696062</td>\n",
              "      <td>-1.696062</td>\n",
              "      <td>-1.696062</td>\n",
              "      <td>-1.696062</td>\n",
              "      <td>-1.636062</td>\n",
              "      <td>-1.696062</td>\n",
              "      <td>-1.696062</td>\n",
              "      <td>-1.686062</td>\n",
              "      <td>-1.586062</td>\n",
              "      <td>-1.696062</td>\n",
              "    </tr>\n",
              "    <tr>\n",
              "      <th>3</th>\n",
              "      <td>A4GALT</td>\n",
              "      <td>1.978677</td>\n",
              "      <td>1.588677</td>\n",
              "      <td>0.908677</td>\n",
              "      <td>0.348677</td>\n",
              "      <td>1.098677</td>\n",
              "      <td>1.488677</td>\n",
              "      <td>-1.791323</td>\n",
              "      <td>-1.041323</td>\n",
              "      <td>-0.601323</td>\n",
              "      <td>1.498677</td>\n",
              "      <td>0.778677</td>\n",
              "      <td>0.968677</td>\n",
              "      <td>-1.591323</td>\n",
              "      <td>-2.241323</td>\n",
              "      <td>-0.081323</td>\n",
              "      <td>1.208677</td>\n",
              "      <td>-1.581323</td>\n",
              "      <td>0.278677</td>\n",
              "      <td>2.368677</td>\n",
              "      <td>-2.201323</td>\n",
              "      <td>-1.361323</td>\n",
              "      <td>-2.241323</td>\n",
              "      <td>-2.201323</td>\n",
              "      <td>0.258677</td>\n",
              "      <td>1.238677</td>\n",
              "      <td>1.508677</td>\n",
              "      <td>-2.241323</td>\n",
              "      <td>-0.241323</td>\n",
              "      <td>-2.241323</td>\n",
              "      <td>0.158677</td>\n",
              "      <td>-1.841323</td>\n",
              "      <td>0.498677</td>\n",
              "      <td>3.008677</td>\n",
              "      <td>0.238677</td>\n",
              "      <td>-0.561323</td>\n",
              "      <td>-0.721323</td>\n",
              "      <td>1.468677</td>\n",
              "      <td>0.168677</td>\n",
              "      <td>0.048677</td>\n",
              "      <td>-1.731323</td>\n",
              "      <td>-1.661323</td>\n",
              "      <td>2.668677</td>\n",
              "      <td>-1.131323</td>\n",
              "      <td>-1.081323</td>\n",
              "      <td>-0.511323</td>\n",
              "      <td>2.718677</td>\n",
              "      <td>0.778677</td>\n",
              "      <td>-2.241323</td>\n",
              "      <td>2.278677</td>\n",
              "      <td>-0.051323</td>\n",
              "      <td>0.008677</td>\n",
              "      <td>2.308677</td>\n",
              "      <td>-2.241323</td>\n",
              "      <td>-1.101323</td>\n",
              "      <td>0.668677</td>\n",
              "      <td>-0.181323</td>\n",
              "      <td>-0.131323</td>\n",
              "      <td>-2.241323</td>\n",
              "      <td>-1.581323</td>\n",
              "      <td>1.368677</td>\n",
              "    </tr>\n",
              "    <tr>\n",
              "      <th>4</th>\n",
              "      <td>AAAS</td>\n",
              "      <td>0.878385</td>\n",
              "      <td>0.178385</td>\n",
              "      <td>1.658385</td>\n",
              "      <td>-0.291615</td>\n",
              "      <td>-0.011615</td>\n",
              "      <td>0.568385</td>\n",
              "      <td>1.518385</td>\n",
              "      <td>0.148385</td>\n",
              "      <td>0.158385</td>\n",
              "      <td>1.038385</td>\n",
              "      <td>-0.441615</td>\n",
              "      <td>1.348385</td>\n",
              "      <td>-0.781615</td>\n",
              "      <td>0.858385</td>\n",
              "      <td>-0.401615</td>\n",
              "      <td>0.958385</td>\n",
              "      <td>-0.411615</td>\n",
              "      <td>-1.071615</td>\n",
              "      <td>0.308385</td>\n",
              "      <td>1.688385</td>\n",
              "      <td>-0.871615</td>\n",
              "      <td>0.488385</td>\n",
              "      <td>1.688385</td>\n",
              "      <td>1.118385</td>\n",
              "      <td>0.018385</td>\n",
              "      <td>-0.101615</td>\n",
              "      <td>0.858385</td>\n",
              "      <td>-0.711615</td>\n",
              "      <td>0.898385</td>\n",
              "      <td>1.168385</td>\n",
              "      <td>0.848385</td>\n",
              "      <td>1.088385</td>\n",
              "      <td>0.568385</td>\n",
              "      <td>0.818385</td>\n",
              "      <td>-0.241615</td>\n",
              "      <td>1.158385</td>\n",
              "      <td>0.848385</td>\n",
              "      <td>1.108385</td>\n",
              "      <td>1.118385</td>\n",
              "      <td>0.878385</td>\n",
              "      <td>1.328385</td>\n",
              "      <td>0.628385</td>\n",
              "      <td>1.018385</td>\n",
              "      <td>1.068385</td>\n",
              "      <td>0.178385</td>\n",
              "      <td>1.408385</td>\n",
              "      <td>0.868385</td>\n",
              "      <td>1.148385</td>\n",
              "      <td>1.488385</td>\n",
              "      <td>0.098385</td>\n",
              "      <td>-0.041615</td>\n",
              "      <td>0.638385</td>\n",
              "      <td>0.608385</td>\n",
              "      <td>1.968385</td>\n",
              "      <td>1.218385</td>\n",
              "      <td>0.098385</td>\n",
              "      <td>0.238385</td>\n",
              "      <td>0.778385</td>\n",
              "      <td>0.558385</td>\n",
              "      <td>0.508385</td>\n",
              "    </tr>\n",
              "  </tbody>\n",
              "</table>\n",
              "</div>\n",
              "      <button class=\"colab-df-convert\" onclick=\"convertToInteractive('df-16db9bb7-c8a1-4b0a-8483-3a705523240e')\"\n",
              "              title=\"Convert this dataframe to an interactive table.\"\n",
              "              style=\"display:none;\">\n",
              "        \n",
              "  <svg xmlns=\"http://www.w3.org/2000/svg\" height=\"24px\"viewBox=\"0 0 24 24\"\n",
              "       width=\"24px\">\n",
              "    <path d=\"M0 0h24v24H0V0z\" fill=\"none\"/>\n",
              "    <path d=\"M18.56 5.44l.94 2.06.94-2.06 2.06-.94-2.06-.94-.94-2.06-.94 2.06-2.06.94zm-11 1L8.5 8.5l.94-2.06 2.06-.94-2.06-.94L8.5 2.5l-.94 2.06-2.06.94zm10 10l.94 2.06.94-2.06 2.06-.94-2.06-.94-.94-2.06-.94 2.06-2.06.94z\"/><path d=\"M17.41 7.96l-1.37-1.37c-.4-.4-.92-.59-1.43-.59-.52 0-1.04.2-1.43.59L10.3 9.45l-7.72 7.72c-.78.78-.78 2.05 0 2.83L4 21.41c.39.39.9.59 1.41.59.51 0 1.02-.2 1.41-.59l7.78-7.78 2.81-2.81c.8-.78.8-2.07 0-2.86zM5.41 20L4 18.59l7.72-7.72 1.47 1.35L5.41 20z\"/>\n",
              "  </svg>\n",
              "      </button>\n",
              "      \n",
              "  <style>\n",
              "    .colab-df-container {\n",
              "      display:flex;\n",
              "      flex-wrap:wrap;\n",
              "      gap: 12px;\n",
              "    }\n",
              "\n",
              "    .colab-df-convert {\n",
              "      background-color: #E8F0FE;\n",
              "      border: none;\n",
              "      border-radius: 50%;\n",
              "      cursor: pointer;\n",
              "      display: none;\n",
              "      fill: #1967D2;\n",
              "      height: 32px;\n",
              "      padding: 0 0 0 0;\n",
              "      width: 32px;\n",
              "    }\n",
              "\n",
              "    .colab-df-convert:hover {\n",
              "      background-color: #E2EBFA;\n",
              "      box-shadow: 0px 1px 2px rgba(60, 64, 67, 0.3), 0px 1px 3px 1px rgba(60, 64, 67, 0.15);\n",
              "      fill: #174EA6;\n",
              "    }\n",
              "\n",
              "    [theme=dark] .colab-df-convert {\n",
              "      background-color: #3B4455;\n",
              "      fill: #D2E3FC;\n",
              "    }\n",
              "\n",
              "    [theme=dark] .colab-df-convert:hover {\n",
              "      background-color: #434B5C;\n",
              "      box-shadow: 0px 1px 3px 1px rgba(0, 0, 0, 0.15);\n",
              "      filter: drop-shadow(0px 1px 2px rgba(0, 0, 0, 0.3));\n",
              "      fill: #FFFFFF;\n",
              "    }\n",
              "  </style>\n",
              "\n",
              "      <script>\n",
              "        const buttonEl =\n",
              "          document.querySelector('#df-16db9bb7-c8a1-4b0a-8483-3a705523240e button.colab-df-convert');\n",
              "        buttonEl.style.display =\n",
              "          google.colab.kernel.accessAllowed ? 'block' : 'none';\n",
              "\n",
              "        async function convertToInteractive(key) {\n",
              "          const element = document.querySelector('#df-16db9bb7-c8a1-4b0a-8483-3a705523240e');\n",
              "          const dataTable =\n",
              "            await google.colab.kernel.invokeFunction('convertToInteractive',\n",
              "                                                     [key], {});\n",
              "          if (!dataTable) return;\n",
              "\n",
              "          const docLinkHtml = 'Like what you see? Visit the ' +\n",
              "            '<a target=\"_blank\" href=https://colab.research.google.com/notebooks/data_table.ipynb>data table notebook</a>'\n",
              "            + ' to learn more about interactive tables.';\n",
              "          element.innerHTML = '';\n",
              "          dataTable['output_type'] = 'display_data';\n",
              "          await google.colab.output.renderOutput(dataTable, element);\n",
              "          const docLink = document.createElement('div');\n",
              "          docLink.innerHTML = docLinkHtml;\n",
              "          element.appendChild(docLink);\n",
              "        }\n",
              "      </script>\n",
              "    </div>\n",
              "  </div>\n",
              "  "
            ],
            "text/plain": [
              "     gene     786-0      A498      A549  ...      U251  UACC-257   UACC-62     UO-31\n",
              "0    A1BG -1.025477 -0.925477  0.274523  ...  0.314523  1.774523  2.104523 -0.665477\n",
              "1     A2M -1.409323 -1.409323 -1.409323  ... -1.369323  5.630677  3.280677 -1.399323\n",
              "2   A2ML1 -1.696062 -1.686062 -1.686062  ... -1.696062 -1.686062 -1.586062 -1.696062\n",
              "3  A4GALT  1.978677  1.588677  0.908677  ... -0.131323 -2.241323 -1.581323  1.368677\n",
              "4    AAAS  0.878385  0.178385  1.658385  ...  0.238385  0.778385  0.558385  0.508385\n",
              "\n",
              "[5 rows x 61 columns]"
            ]
          },
          "metadata": {},
          "execution_count": 2
        }
      ]
    },
    {
      "cell_type": "markdown",
      "source": [
        "Set the gene name as the index of our dataframe."
      ],
      "metadata": {
        "id": "ljT4--R18EyJ"
      }
    },
    {
      "cell_type": "code",
      "source": [
        "df = df.set_index('gene')\n",
        "df.head(5)"
      ],
      "metadata": {
        "colab": {
          "base_uri": "https://localhost:8080/",
          "height": 319
        },
        "id": "GCh2ol_877di",
        "outputId": "b94a8310-d5a1-4c37-ff1e-afb99f8802ce"
      },
      "execution_count": 3,
      "outputs": [
        {
          "output_type": "execute_result",
          "data": {
            "text/html": [
              "\n",
              "  <div id=\"df-2736e371-30d3-4a26-a8db-c2feb0e248d7\">\n",
              "    <div class=\"colab-df-container\">\n",
              "      <div>\n",
              "<style scoped>\n",
              "    .dataframe tbody tr th:only-of-type {\n",
              "        vertical-align: middle;\n",
              "    }\n",
              "\n",
              "    .dataframe tbody tr th {\n",
              "        vertical-align: top;\n",
              "    }\n",
              "\n",
              "    .dataframe thead th {\n",
              "        text-align: right;\n",
              "    }\n",
              "</style>\n",
              "<table border=\"1\" class=\"dataframe\">\n",
              "  <thead>\n",
              "    <tr style=\"text-align: right;\">\n",
              "      <th></th>\n",
              "      <th>786-0</th>\n",
              "      <th>A498</th>\n",
              "      <th>A549</th>\n",
              "      <th>ACHN</th>\n",
              "      <th>BT-549</th>\n",
              "      <th>CAKI-1</th>\n",
              "      <th>CCRF-CEM</th>\n",
              "      <th>COLO205</th>\n",
              "      <th>DU-145</th>\n",
              "      <th>EKVX</th>\n",
              "      <th>HCC-2998</th>\n",
              "      <th>HCT-116</th>\n",
              "      <th>HCT-15</th>\n",
              "      <th>HL-60</th>\n",
              "      <th>HOP-62</th>\n",
              "      <th>HOP-92</th>\n",
              "      <th>HS-578T</th>\n",
              "      <th>HT29</th>\n",
              "      <th>IGR-OV1</th>\n",
              "      <th>K-562</th>\n",
              "      <th>KM12</th>\n",
              "      <th>LOX-IMVI</th>\n",
              "      <th>M14</th>\n",
              "      <th>MALME-3M</th>\n",
              "      <th>MCF7</th>\n",
              "      <th>MDA-MB-231</th>\n",
              "      <th>MDA-MB-435</th>\n",
              "      <th>MDA-MB-468</th>\n",
              "      <th>MOLT-4</th>\n",
              "      <th>NCI-ADR-RES</th>\n",
              "      <th>NCI-H226</th>\n",
              "      <th>NCI-H23</th>\n",
              "      <th>NCI-H322M</th>\n",
              "      <th>NCI-H460</th>\n",
              "      <th>NCI-H522</th>\n",
              "      <th>OVCAR-3</th>\n",
              "      <th>OVCAR-4</th>\n",
              "      <th>OVCAR-5</th>\n",
              "      <th>OVCAR-8</th>\n",
              "      <th>PC-3</th>\n",
              "      <th>RPMI-8226</th>\n",
              "      <th>RXF-393</th>\n",
              "      <th>SF-268</th>\n",
              "      <th>SF-295</th>\n",
              "      <th>SF-539</th>\n",
              "      <th>SK-MEL-2</th>\n",
              "      <th>SK-MEL-28</th>\n",
              "      <th>SK-MEL-5</th>\n",
              "      <th>SK-OV-3</th>\n",
              "      <th>SN12C</th>\n",
              "      <th>SNB-19</th>\n",
              "      <th>SNB-75</th>\n",
              "      <th>SR</th>\n",
              "      <th>SW-620</th>\n",
              "      <th>T-47D</th>\n",
              "      <th>TK-10</th>\n",
              "      <th>U251</th>\n",
              "      <th>UACC-257</th>\n",
              "      <th>UACC-62</th>\n",
              "      <th>UO-31</th>\n",
              "    </tr>\n",
              "    <tr>\n",
              "      <th>gene</th>\n",
              "      <th></th>\n",
              "      <th></th>\n",
              "      <th></th>\n",
              "      <th></th>\n",
              "      <th></th>\n",
              "      <th></th>\n",
              "      <th></th>\n",
              "      <th></th>\n",
              "      <th></th>\n",
              "      <th></th>\n",
              "      <th></th>\n",
              "      <th></th>\n",
              "      <th></th>\n",
              "      <th></th>\n",
              "      <th></th>\n",
              "      <th></th>\n",
              "      <th></th>\n",
              "      <th></th>\n",
              "      <th></th>\n",
              "      <th></th>\n",
              "      <th></th>\n",
              "      <th></th>\n",
              "      <th></th>\n",
              "      <th></th>\n",
              "      <th></th>\n",
              "      <th></th>\n",
              "      <th></th>\n",
              "      <th></th>\n",
              "      <th></th>\n",
              "      <th></th>\n",
              "      <th></th>\n",
              "      <th></th>\n",
              "      <th></th>\n",
              "      <th></th>\n",
              "      <th></th>\n",
              "      <th></th>\n",
              "      <th></th>\n",
              "      <th></th>\n",
              "      <th></th>\n",
              "      <th></th>\n",
              "      <th></th>\n",
              "      <th></th>\n",
              "      <th></th>\n",
              "      <th></th>\n",
              "      <th></th>\n",
              "      <th></th>\n",
              "      <th></th>\n",
              "      <th></th>\n",
              "      <th></th>\n",
              "      <th></th>\n",
              "      <th></th>\n",
              "      <th></th>\n",
              "      <th></th>\n",
              "      <th></th>\n",
              "      <th></th>\n",
              "      <th></th>\n",
              "      <th></th>\n",
              "      <th></th>\n",
              "      <th></th>\n",
              "      <th></th>\n",
              "    </tr>\n",
              "  </thead>\n",
              "  <tbody>\n",
              "    <tr>\n",
              "      <th>A1BG</th>\n",
              "      <td>-1.025477</td>\n",
              "      <td>-0.925477</td>\n",
              "      <td>0.274523</td>\n",
              "      <td>-0.875477</td>\n",
              "      <td>2.484523</td>\n",
              "      <td>1.244523</td>\n",
              "      <td>1.914523</td>\n",
              "      <td>-1.025477</td>\n",
              "      <td>0.584523</td>\n",
              "      <td>0.094523</td>\n",
              "      <td>-0.795477</td>\n",
              "      <td>-0.915477</td>\n",
              "      <td>-0.955477</td>\n",
              "      <td>-0.625477</td>\n",
              "      <td>0.584523</td>\n",
              "      <td>1.394523</td>\n",
              "      <td>2.754523</td>\n",
              "      <td>-0.965477</td>\n",
              "      <td>0.604523</td>\n",
              "      <td>0.564523</td>\n",
              "      <td>-0.845477</td>\n",
              "      <td>-1.025477</td>\n",
              "      <td>0.684523</td>\n",
              "      <td>1.984523</td>\n",
              "      <td>1.594523</td>\n",
              "      <td>0.414523</td>\n",
              "      <td>1.154523</td>\n",
              "      <td>0.684523</td>\n",
              "      <td>1.644523</td>\n",
              "      <td>0.834523</td>\n",
              "      <td>0.124523</td>\n",
              "      <td>0.324523</td>\n",
              "      <td>1.414523</td>\n",
              "      <td>-0.005477</td>\n",
              "      <td>1.524523</td>\n",
              "      <td>0.914523</td>\n",
              "      <td>-0.035477</td>\n",
              "      <td>-1.015477</td>\n",
              "      <td>0.514523</td>\n",
              "      <td>-0.905477</td>\n",
              "      <td>-0.165477</td>\n",
              "      <td>1.014523</td>\n",
              "      <td>0.814523</td>\n",
              "      <td>1.424523</td>\n",
              "      <td>1.244523</td>\n",
              "      <td>1.554523</td>\n",
              "      <td>1.414523</td>\n",
              "      <td>1.114523</td>\n",
              "      <td>1.754523</td>\n",
              "      <td>2.074523</td>\n",
              "      <td>0.494523</td>\n",
              "      <td>-0.705477</td>\n",
              "      <td>0.914523</td>\n",
              "      <td>-0.885477</td>\n",
              "      <td>1.524523</td>\n",
              "      <td>-0.995477</td>\n",
              "      <td>0.314523</td>\n",
              "      <td>1.774523</td>\n",
              "      <td>2.104523</td>\n",
              "      <td>-0.665477</td>\n",
              "    </tr>\n",
              "    <tr>\n",
              "      <th>A2M</th>\n",
              "      <td>-1.409323</td>\n",
              "      <td>-1.409323</td>\n",
              "      <td>-1.409323</td>\n",
              "      <td>-1.409323</td>\n",
              "      <td>-1.409323</td>\n",
              "      <td>-1.399323</td>\n",
              "      <td>-1.299323</td>\n",
              "      <td>-1.409323</td>\n",
              "      <td>-1.399323</td>\n",
              "      <td>0.100677</td>\n",
              "      <td>-1.349323</td>\n",
              "      <td>-1.289323</td>\n",
              "      <td>-1.409323</td>\n",
              "      <td>-1.349323</td>\n",
              "      <td>-1.409323</td>\n",
              "      <td>-1.409323</td>\n",
              "      <td>-1.409323</td>\n",
              "      <td>-1.399323</td>\n",
              "      <td>-1.409323</td>\n",
              "      <td>-1.379323</td>\n",
              "      <td>-1.379323</td>\n",
              "      <td>-1.379323</td>\n",
              "      <td>2.260677</td>\n",
              "      <td>5.510677</td>\n",
              "      <td>-1.369323</td>\n",
              "      <td>-1.269323</td>\n",
              "      <td>-1.269323</td>\n",
              "      <td>2.380677</td>\n",
              "      <td>-1.399323</td>\n",
              "      <td>-1.399323</td>\n",
              "      <td>-0.379323</td>\n",
              "      <td>0.240677</td>\n",
              "      <td>-1.159323</td>\n",
              "      <td>-1.339323</td>\n",
              "      <td>-1.309323</td>\n",
              "      <td>-1.369323</td>\n",
              "      <td>-1.369323</td>\n",
              "      <td>-1.209323</td>\n",
              "      <td>-1.349323</td>\n",
              "      <td>-1.289323</td>\n",
              "      <td>-1.409323</td>\n",
              "      <td>-1.329323</td>\n",
              "      <td>-1.409323</td>\n",
              "      <td>-1.289323</td>\n",
              "      <td>0.250677</td>\n",
              "      <td>4.310677</td>\n",
              "      <td>6.570677</td>\n",
              "      <td>6.620677</td>\n",
              "      <td>-1.379323</td>\n",
              "      <td>-1.369323</td>\n",
              "      <td>-0.889323</td>\n",
              "      <td>-0.729323</td>\n",
              "      <td>-1.409323</td>\n",
              "      <td>-1.229323</td>\n",
              "      <td>-1.399323</td>\n",
              "      <td>-1.399323</td>\n",
              "      <td>-1.369323</td>\n",
              "      <td>5.630677</td>\n",
              "      <td>3.280677</td>\n",
              "      <td>-1.399323</td>\n",
              "    </tr>\n",
              "    <tr>\n",
              "      <th>A2ML1</th>\n",
              "      <td>-1.696062</td>\n",
              "      <td>-1.686062</td>\n",
              "      <td>-1.686062</td>\n",
              "      <td>-1.686062</td>\n",
              "      <td>-1.696062</td>\n",
              "      <td>-1.696062</td>\n",
              "      <td>-1.696062</td>\n",
              "      <td>-1.696062</td>\n",
              "      <td>-1.696062</td>\n",
              "      <td>-1.586062</td>\n",
              "      <td>-1.616062</td>\n",
              "      <td>-1.696062</td>\n",
              "      <td>-1.696062</td>\n",
              "      <td>-1.696062</td>\n",
              "      <td>-1.696062</td>\n",
              "      <td>-1.686062</td>\n",
              "      <td>-1.696062</td>\n",
              "      <td>-1.696062</td>\n",
              "      <td>-1.686062</td>\n",
              "      <td>-1.686062</td>\n",
              "      <td>1.733938</td>\n",
              "      <td>-1.626062</td>\n",
              "      <td>-1.686062</td>\n",
              "      <td>-1.616062</td>\n",
              "      <td>-1.696062</td>\n",
              "      <td>-1.696062</td>\n",
              "      <td>-1.636062</td>\n",
              "      <td>-1.296062</td>\n",
              "      <td>-1.696062</td>\n",
              "      <td>-1.696062</td>\n",
              "      <td>-1.696062</td>\n",
              "      <td>-1.686062</td>\n",
              "      <td>0.023938</td>\n",
              "      <td>-1.696062</td>\n",
              "      <td>-1.696062</td>\n",
              "      <td>-1.446062</td>\n",
              "      <td>-1.556062</td>\n",
              "      <td>-1.446062</td>\n",
              "      <td>-1.696062</td>\n",
              "      <td>-1.696062</td>\n",
              "      <td>-1.696062</td>\n",
              "      <td>-1.696062</td>\n",
              "      <td>-1.696062</td>\n",
              "      <td>-1.696062</td>\n",
              "      <td>-1.686062</td>\n",
              "      <td>-1.546062</td>\n",
              "      <td>-1.506062</td>\n",
              "      <td>-1.546062</td>\n",
              "      <td>-1.696062</td>\n",
              "      <td>-1.696062</td>\n",
              "      <td>-1.696062</td>\n",
              "      <td>-1.696062</td>\n",
              "      <td>-1.696062</td>\n",
              "      <td>-1.696062</td>\n",
              "      <td>-1.636062</td>\n",
              "      <td>-1.696062</td>\n",
              "      <td>-1.696062</td>\n",
              "      <td>-1.686062</td>\n",
              "      <td>-1.586062</td>\n",
              "      <td>-1.696062</td>\n",
              "    </tr>\n",
              "    <tr>\n",
              "      <th>A4GALT</th>\n",
              "      <td>1.978677</td>\n",
              "      <td>1.588677</td>\n",
              "      <td>0.908677</td>\n",
              "      <td>0.348677</td>\n",
              "      <td>1.098677</td>\n",
              "      <td>1.488677</td>\n",
              "      <td>-1.791323</td>\n",
              "      <td>-1.041323</td>\n",
              "      <td>-0.601323</td>\n",
              "      <td>1.498677</td>\n",
              "      <td>0.778677</td>\n",
              "      <td>0.968677</td>\n",
              "      <td>-1.591323</td>\n",
              "      <td>-2.241323</td>\n",
              "      <td>-0.081323</td>\n",
              "      <td>1.208677</td>\n",
              "      <td>-1.581323</td>\n",
              "      <td>0.278677</td>\n",
              "      <td>2.368677</td>\n",
              "      <td>-2.201323</td>\n",
              "      <td>-1.361323</td>\n",
              "      <td>-2.241323</td>\n",
              "      <td>-2.201323</td>\n",
              "      <td>0.258677</td>\n",
              "      <td>1.238677</td>\n",
              "      <td>1.508677</td>\n",
              "      <td>-2.241323</td>\n",
              "      <td>-0.241323</td>\n",
              "      <td>-2.241323</td>\n",
              "      <td>0.158677</td>\n",
              "      <td>-1.841323</td>\n",
              "      <td>0.498677</td>\n",
              "      <td>3.008677</td>\n",
              "      <td>0.238677</td>\n",
              "      <td>-0.561323</td>\n",
              "      <td>-0.721323</td>\n",
              "      <td>1.468677</td>\n",
              "      <td>0.168677</td>\n",
              "      <td>0.048677</td>\n",
              "      <td>-1.731323</td>\n",
              "      <td>-1.661323</td>\n",
              "      <td>2.668677</td>\n",
              "      <td>-1.131323</td>\n",
              "      <td>-1.081323</td>\n",
              "      <td>-0.511323</td>\n",
              "      <td>2.718677</td>\n",
              "      <td>0.778677</td>\n",
              "      <td>-2.241323</td>\n",
              "      <td>2.278677</td>\n",
              "      <td>-0.051323</td>\n",
              "      <td>0.008677</td>\n",
              "      <td>2.308677</td>\n",
              "      <td>-2.241323</td>\n",
              "      <td>-1.101323</td>\n",
              "      <td>0.668677</td>\n",
              "      <td>-0.181323</td>\n",
              "      <td>-0.131323</td>\n",
              "      <td>-2.241323</td>\n",
              "      <td>-1.581323</td>\n",
              "      <td>1.368677</td>\n",
              "    </tr>\n",
              "    <tr>\n",
              "      <th>AAAS</th>\n",
              "      <td>0.878385</td>\n",
              "      <td>0.178385</td>\n",
              "      <td>1.658385</td>\n",
              "      <td>-0.291615</td>\n",
              "      <td>-0.011615</td>\n",
              "      <td>0.568385</td>\n",
              "      <td>1.518385</td>\n",
              "      <td>0.148385</td>\n",
              "      <td>0.158385</td>\n",
              "      <td>1.038385</td>\n",
              "      <td>-0.441615</td>\n",
              "      <td>1.348385</td>\n",
              "      <td>-0.781615</td>\n",
              "      <td>0.858385</td>\n",
              "      <td>-0.401615</td>\n",
              "      <td>0.958385</td>\n",
              "      <td>-0.411615</td>\n",
              "      <td>-1.071615</td>\n",
              "      <td>0.308385</td>\n",
              "      <td>1.688385</td>\n",
              "      <td>-0.871615</td>\n",
              "      <td>0.488385</td>\n",
              "      <td>1.688385</td>\n",
              "      <td>1.118385</td>\n",
              "      <td>0.018385</td>\n",
              "      <td>-0.101615</td>\n",
              "      <td>0.858385</td>\n",
              "      <td>-0.711615</td>\n",
              "      <td>0.898385</td>\n",
              "      <td>1.168385</td>\n",
              "      <td>0.848385</td>\n",
              "      <td>1.088385</td>\n",
              "      <td>0.568385</td>\n",
              "      <td>0.818385</td>\n",
              "      <td>-0.241615</td>\n",
              "      <td>1.158385</td>\n",
              "      <td>0.848385</td>\n",
              "      <td>1.108385</td>\n",
              "      <td>1.118385</td>\n",
              "      <td>0.878385</td>\n",
              "      <td>1.328385</td>\n",
              "      <td>0.628385</td>\n",
              "      <td>1.018385</td>\n",
              "      <td>1.068385</td>\n",
              "      <td>0.178385</td>\n",
              "      <td>1.408385</td>\n",
              "      <td>0.868385</td>\n",
              "      <td>1.148385</td>\n",
              "      <td>1.488385</td>\n",
              "      <td>0.098385</td>\n",
              "      <td>-0.041615</td>\n",
              "      <td>0.638385</td>\n",
              "      <td>0.608385</td>\n",
              "      <td>1.968385</td>\n",
              "      <td>1.218385</td>\n",
              "      <td>0.098385</td>\n",
              "      <td>0.238385</td>\n",
              "      <td>0.778385</td>\n",
              "      <td>0.558385</td>\n",
              "      <td>0.508385</td>\n",
              "    </tr>\n",
              "  </tbody>\n",
              "</table>\n",
              "</div>\n",
              "      <button class=\"colab-df-convert\" onclick=\"convertToInteractive('df-2736e371-30d3-4a26-a8db-c2feb0e248d7')\"\n",
              "              title=\"Convert this dataframe to an interactive table.\"\n",
              "              style=\"display:none;\">\n",
              "        \n",
              "  <svg xmlns=\"http://www.w3.org/2000/svg\" height=\"24px\"viewBox=\"0 0 24 24\"\n",
              "       width=\"24px\">\n",
              "    <path d=\"M0 0h24v24H0V0z\" fill=\"none\"/>\n",
              "    <path d=\"M18.56 5.44l.94 2.06.94-2.06 2.06-.94-2.06-.94-.94-2.06-.94 2.06-2.06.94zm-11 1L8.5 8.5l.94-2.06 2.06-.94-2.06-.94L8.5 2.5l-.94 2.06-2.06.94zm10 10l.94 2.06.94-2.06 2.06-.94-2.06-.94-.94-2.06-.94 2.06-2.06.94z\"/><path d=\"M17.41 7.96l-1.37-1.37c-.4-.4-.92-.59-1.43-.59-.52 0-1.04.2-1.43.59L10.3 9.45l-7.72 7.72c-.78.78-.78 2.05 0 2.83L4 21.41c.39.39.9.59 1.41.59.51 0 1.02-.2 1.41-.59l7.78-7.78 2.81-2.81c.8-.78.8-2.07 0-2.86zM5.41 20L4 18.59l7.72-7.72 1.47 1.35L5.41 20z\"/>\n",
              "  </svg>\n",
              "      </button>\n",
              "      \n",
              "  <style>\n",
              "    .colab-df-container {\n",
              "      display:flex;\n",
              "      flex-wrap:wrap;\n",
              "      gap: 12px;\n",
              "    }\n",
              "\n",
              "    .colab-df-convert {\n",
              "      background-color: #E8F0FE;\n",
              "      border: none;\n",
              "      border-radius: 50%;\n",
              "      cursor: pointer;\n",
              "      display: none;\n",
              "      fill: #1967D2;\n",
              "      height: 32px;\n",
              "      padding: 0 0 0 0;\n",
              "      width: 32px;\n",
              "    }\n",
              "\n",
              "    .colab-df-convert:hover {\n",
              "      background-color: #E2EBFA;\n",
              "      box-shadow: 0px 1px 2px rgba(60, 64, 67, 0.3), 0px 1px 3px 1px rgba(60, 64, 67, 0.15);\n",
              "      fill: #174EA6;\n",
              "    }\n",
              "\n",
              "    [theme=dark] .colab-df-convert {\n",
              "      background-color: #3B4455;\n",
              "      fill: #D2E3FC;\n",
              "    }\n",
              "\n",
              "    [theme=dark] .colab-df-convert:hover {\n",
              "      background-color: #434B5C;\n",
              "      box-shadow: 0px 1px 3px 1px rgba(0, 0, 0, 0.15);\n",
              "      filter: drop-shadow(0px 1px 2px rgba(0, 0, 0, 0.3));\n",
              "      fill: #FFFFFF;\n",
              "    }\n",
              "  </style>\n",
              "\n",
              "      <script>\n",
              "        const buttonEl =\n",
              "          document.querySelector('#df-2736e371-30d3-4a26-a8db-c2feb0e248d7 button.colab-df-convert');\n",
              "        buttonEl.style.display =\n",
              "          google.colab.kernel.accessAllowed ? 'block' : 'none';\n",
              "\n",
              "        async function convertToInteractive(key) {\n",
              "          const element = document.querySelector('#df-2736e371-30d3-4a26-a8db-c2feb0e248d7');\n",
              "          const dataTable =\n",
              "            await google.colab.kernel.invokeFunction('convertToInteractive',\n",
              "                                                     [key], {});\n",
              "          if (!dataTable) return;\n",
              "\n",
              "          const docLinkHtml = 'Like what you see? Visit the ' +\n",
              "            '<a target=\"_blank\" href=https://colab.research.google.com/notebooks/data_table.ipynb>data table notebook</a>'\n",
              "            + ' to learn more about interactive tables.';\n",
              "          element.innerHTML = '';\n",
              "          dataTable['output_type'] = 'display_data';\n",
              "          await google.colab.output.renderOutput(dataTable, element);\n",
              "          const docLink = document.createElement('div');\n",
              "          docLink.innerHTML = docLinkHtml;\n",
              "          element.appendChild(docLink);\n",
              "        }\n",
              "      </script>\n",
              "    </div>\n",
              "  </div>\n",
              "  "
            ],
            "text/plain": [
              "           786-0      A498      A549  ...  UACC-257   UACC-62     UO-31\n",
              "gene                                  ...                              \n",
              "A1BG   -1.025477 -0.925477  0.274523  ...  1.774523  2.104523 -0.665477\n",
              "A2M    -1.409323 -1.409323 -1.409323  ...  5.630677  3.280677 -1.399323\n",
              "A2ML1  -1.696062 -1.686062 -1.686062  ... -1.686062 -1.586062 -1.696062\n",
              "A4GALT  1.978677  1.588677  0.908677  ... -2.241323 -1.581323  1.368677\n",
              "AAAS    0.878385  0.178385  1.658385  ...  0.778385  0.558385  0.508385\n",
              "\n",
              "[5 rows x 60 columns]"
            ]
          },
          "metadata": {},
          "execution_count": 3
        }
      ]
    },
    {
      "cell_type": "markdown",
      "source": [
        "And then, we can retrieve all the cell lines and store them into a list."
      ],
      "metadata": {
        "id": "43vEUD7w9LVq"
      }
    },
    {
      "cell_type": "code",
      "source": [
        "cell_lines = list(df.columns.values)\n",
        "cell_lines[1:8]"
      ],
      "metadata": {
        "colab": {
          "base_uri": "https://localhost:8080/"
        },
        "id": "P0hTjvzP8IaR",
        "outputId": "4b69b467-e4f4-4fc5-980b-5097c9a41f86"
      },
      "execution_count": 4,
      "outputs": [
        {
          "output_type": "execute_result",
          "data": {
            "text/plain": [
              "['A498', 'A549', 'ACHN', 'BT-549', 'CAKI-1', 'CCRF-CEM', 'COLO205']"
            ]
          },
          "metadata": {},
          "execution_count": 4
        }
      ]
    },
    {
      "cell_type": "markdown",
      "source": [
        "To work with cluster models we need to transpose our data, because it uses the rows."
      ],
      "metadata": {
        "id": "F8Hy7U0-tlV8"
      }
    },
    {
      "cell_type": "code",
      "source": [
        "df_t= df.transpose()\n",
        "df_t.head(5)"
      ],
      "metadata": {
        "colab": {
          "base_uri": "https://localhost:8080/",
          "height": 317
        },
        "id": "7lYkV324tkIq",
        "outputId": "bbbbca7f-5830-44be-e63d-196213ff0201"
      },
      "execution_count": 5,
      "outputs": [
        {
          "output_type": "execute_result",
          "data": {
            "text/html": [
              "\n",
              "  <div id=\"df-b7ad754b-0d14-403c-8a56-9d0428790b74\">\n",
              "    <div class=\"colab-df-container\">\n",
              "      <div>\n",
              "<style scoped>\n",
              "    .dataframe tbody tr th:only-of-type {\n",
              "        vertical-align: middle;\n",
              "    }\n",
              "\n",
              "    .dataframe tbody tr th {\n",
              "        vertical-align: top;\n",
              "    }\n",
              "\n",
              "    .dataframe thead th {\n",
              "        text-align: right;\n",
              "    }\n",
              "</style>\n",
              "<table border=\"1\" class=\"dataframe\">\n",
              "  <thead>\n",
              "    <tr style=\"text-align: right;\">\n",
              "      <th>gene</th>\n",
              "      <th>A1BG</th>\n",
              "      <th>A2M</th>\n",
              "      <th>A2ML1</th>\n",
              "      <th>A4GALT</th>\n",
              "      <th>AAAS</th>\n",
              "      <th>AACS</th>\n",
              "      <th>AADAC</th>\n",
              "      <th>AAED1</th>\n",
              "      <th>AAGAB</th>\n",
              "      <th>AAMP</th>\n",
              "      <th>AAR2</th>\n",
              "      <th>AARS</th>\n",
              "      <th>AARS2</th>\n",
              "      <th>AASDH</th>\n",
              "      <th>AASDHPPT</th>\n",
              "      <th>AATK</th>\n",
              "      <th>ABAT</th>\n",
              "      <th>ABCA2</th>\n",
              "      <th>ABCA3</th>\n",
              "      <th>ABCA6</th>\n",
              "      <th>ABCA7</th>\n",
              "      <th>ABCA8</th>\n",
              "      <th>ABCA9</th>\n",
              "      <th>ABCB10</th>\n",
              "      <th>ABCB11</th>\n",
              "      <th>ABCB8</th>\n",
              "      <th>ABCC1</th>\n",
              "      <th>ABCC10</th>\n",
              "      <th>ABCC11</th>\n",
              "      <th>ABCC5</th>\n",
              "      <th>ABCC6</th>\n",
              "      <th>ABCC8</th>\n",
              "      <th>ABCD1</th>\n",
              "      <th>ABCD3</th>\n",
              "      <th>ABCD4</th>\n",
              "      <th>ABCE1</th>\n",
              "      <th>ABCF1</th>\n",
              "      <th>ABCF2</th>\n",
              "      <th>ABCF3</th>\n",
              "      <th>ABCG4</th>\n",
              "      <th>...</th>\n",
              "      <th>ZNF99</th>\n",
              "      <th>ZNFX1</th>\n",
              "      <th>ZNHIT1</th>\n",
              "      <th>ZNHIT6</th>\n",
              "      <th>ZNRD1</th>\n",
              "      <th>ZNRF2</th>\n",
              "      <th>ZNRF4</th>\n",
              "      <th>ZP1</th>\n",
              "      <th>ZP2</th>\n",
              "      <th>ZP4</th>\n",
              "      <th>ZRANB1</th>\n",
              "      <th>ZRANB2</th>\n",
              "      <th>ZSCAN1</th>\n",
              "      <th>ZSCAN12</th>\n",
              "      <th>ZSCAN16</th>\n",
              "      <th>ZSCAN18</th>\n",
              "      <th>ZSCAN2</th>\n",
              "      <th>ZSCAN20</th>\n",
              "      <th>ZSCAN21</th>\n",
              "      <th>ZSCAN22</th>\n",
              "      <th>ZSCAN25</th>\n",
              "      <th>ZSCAN26</th>\n",
              "      <th>ZSCAN29</th>\n",
              "      <th>ZSCAN30</th>\n",
              "      <th>ZSCAN31</th>\n",
              "      <th>ZSCAN4</th>\n",
              "      <th>ZSCAN9</th>\n",
              "      <th>ZSWIM1</th>\n",
              "      <th>ZSWIM3</th>\n",
              "      <th>ZSWIM4</th>\n",
              "      <th>ZSWIM7</th>\n",
              "      <th>ZSWIM8</th>\n",
              "      <th>ZUFSP</th>\n",
              "      <th>ZW10</th>\n",
              "      <th>ZWILCH</th>\n",
              "      <th>ZXDA</th>\n",
              "      <th>ZXDB</th>\n",
              "      <th>ZXDC</th>\n",
              "      <th>ZYG11B</th>\n",
              "      <th>ZZZ3</th>\n",
              "    </tr>\n",
              "  </thead>\n",
              "  <tbody>\n",
              "    <tr>\n",
              "      <th>786-0</th>\n",
              "      <td>-1.025477</td>\n",
              "      <td>-1.409323</td>\n",
              "      <td>-1.696062</td>\n",
              "      <td>1.978677</td>\n",
              "      <td>0.878385</td>\n",
              "      <td>-0.354923</td>\n",
              "      <td>-0.809323</td>\n",
              "      <td>1.419631</td>\n",
              "      <td>0.369015</td>\n",
              "      <td>-0.128523</td>\n",
              "      <td>0.043877</td>\n",
              "      <td>0.603108</td>\n",
              "      <td>0.741938</td>\n",
              "      <td>-0.170415</td>\n",
              "      <td>1.164492</td>\n",
              "      <td>-0.333662</td>\n",
              "      <td>-1.599538</td>\n",
              "      <td>0.974554</td>\n",
              "      <td>1.113231</td>\n",
              "      <td>-0.505369</td>\n",
              "      <td>-0.438</td>\n",
              "      <td>-0.446723</td>\n",
              "      <td>-0.252831</td>\n",
              "      <td>-0.521846</td>\n",
              "      <td>-0.203754</td>\n",
              "      <td>0.647923</td>\n",
              "      <td>0.058354</td>\n",
              "      <td>-0.0572</td>\n",
              "      <td>-0.281477</td>\n",
              "      <td>-1.025215</td>\n",
              "      <td>-0.581538</td>\n",
              "      <td>-0.227877</td>\n",
              "      <td>0.374277</td>\n",
              "      <td>0.607862</td>\n",
              "      <td>0.211785</td>\n",
              "      <td>0.511046</td>\n",
              "      <td>1.282877</td>\n",
              "      <td>1.041969</td>\n",
              "      <td>0.356646</td>\n",
              "      <td>-0.0932</td>\n",
              "      <td>...</td>\n",
              "      <td>-0.0454</td>\n",
              "      <td>0.996477</td>\n",
              "      <td>-0.148385</td>\n",
              "      <td>1.189677</td>\n",
              "      <td>-0.5214</td>\n",
              "      <td>-0.560431</td>\n",
              "      <td>-0.005215</td>\n",
              "      <td>0.517415</td>\n",
              "      <td>-0.075554</td>\n",
              "      <td>-0.029985</td>\n",
              "      <td>-0.041369</td>\n",
              "      <td>1.0474</td>\n",
              "      <td>-0.106554</td>\n",
              "      <td>0.937908</td>\n",
              "      <td>-0.333785</td>\n",
              "      <td>0.879354</td>\n",
              "      <td>0.410138</td>\n",
              "      <td>-0.024492</td>\n",
              "      <td>0.102277</td>\n",
              "      <td>-0.195292</td>\n",
              "      <td>0.307738</td>\n",
              "      <td>-0.141754</td>\n",
              "      <td>-0.007338</td>\n",
              "      <td>-0.090585</td>\n",
              "      <td>-0.508862</td>\n",
              "      <td>-0.088231</td>\n",
              "      <td>0.211123</td>\n",
              "      <td>-0.041738</td>\n",
              "      <td>-0.967369</td>\n",
              "      <td>0.632138</td>\n",
              "      <td>0.266154</td>\n",
              "      <td>0.002246</td>\n",
              "      <td>0.482123</td>\n",
              "      <td>0.605908</td>\n",
              "      <td>2.007554</td>\n",
              "      <td>-0.359754</td>\n",
              "      <td>-0.193538</td>\n",
              "      <td>-0.565677</td>\n",
              "      <td>-0.243108</td>\n",
              "      <td>0.456292</td>\n",
              "    </tr>\n",
              "    <tr>\n",
              "      <th>A498</th>\n",
              "      <td>-0.925477</td>\n",
              "      <td>-1.409323</td>\n",
              "      <td>-1.686062</td>\n",
              "      <td>1.588677</td>\n",
              "      <td>0.178385</td>\n",
              "      <td>-0.184923</td>\n",
              "      <td>-0.389323</td>\n",
              "      <td>1.779631</td>\n",
              "      <td>0.249015</td>\n",
              "      <td>-0.198523</td>\n",
              "      <td>-0.386123</td>\n",
              "      <td>-0.136892</td>\n",
              "      <td>0.701938</td>\n",
              "      <td>-0.570415</td>\n",
              "      <td>0.804492</td>\n",
              "      <td>-0.323662</td>\n",
              "      <td>-1.379538</td>\n",
              "      <td>1.214554</td>\n",
              "      <td>1.923231</td>\n",
              "      <td>-0.445369</td>\n",
              "      <td>0.832</td>\n",
              "      <td>-0.446723</td>\n",
              "      <td>-0.252831</td>\n",
              "      <td>0.628154</td>\n",
              "      <td>-0.203754</td>\n",
              "      <td>0.777923</td>\n",
              "      <td>1.138354</td>\n",
              "      <td>-0.3572</td>\n",
              "      <td>-0.291477</td>\n",
              "      <td>-0.535215</td>\n",
              "      <td>0.238462</td>\n",
              "      <td>-0.227877</td>\n",
              "      <td>1.114277</td>\n",
              "      <td>0.357862</td>\n",
              "      <td>-0.378215</td>\n",
              "      <td>0.441046</td>\n",
              "      <td>0.392877</td>\n",
              "      <td>1.101969</td>\n",
              "      <td>-0.013354</td>\n",
              "      <td>-0.1632</td>\n",
              "      <td>...</td>\n",
              "      <td>-0.1054</td>\n",
              "      <td>0.626477</td>\n",
              "      <td>1.251615</td>\n",
              "      <td>0.189677</td>\n",
              "      <td>-0.7914</td>\n",
              "      <td>-0.240431</td>\n",
              "      <td>-0.005215</td>\n",
              "      <td>1.207415</td>\n",
              "      <td>-0.075554</td>\n",
              "      <td>-0.029985</td>\n",
              "      <td>-0.881369</td>\n",
              "      <td>0.7974</td>\n",
              "      <td>-0.106554</td>\n",
              "      <td>-1.242092</td>\n",
              "      <td>-0.653785</td>\n",
              "      <td>0.069354</td>\n",
              "      <td>-0.359862</td>\n",
              "      <td>-0.004492</td>\n",
              "      <td>-0.377723</td>\n",
              "      <td>-0.115292</td>\n",
              "      <td>0.467738</td>\n",
              "      <td>-0.181754</td>\n",
              "      <td>0.072662</td>\n",
              "      <td>-0.430585</td>\n",
              "      <td>0.461138</td>\n",
              "      <td>-0.088231</td>\n",
              "      <td>-0.098877</td>\n",
              "      <td>-0.051738</td>\n",
              "      <td>-0.407369</td>\n",
              "      <td>1.272138</td>\n",
              "      <td>0.106154</td>\n",
              "      <td>0.042246</td>\n",
              "      <td>0.092123</td>\n",
              "      <td>-0.384092</td>\n",
              "      <td>1.227554</td>\n",
              "      <td>0.770246</td>\n",
              "      <td>0.386462</td>\n",
              "      <td>-0.705677</td>\n",
              "      <td>-0.233108</td>\n",
              "      <td>-0.113708</td>\n",
              "    </tr>\n",
              "    <tr>\n",
              "      <th>A549</th>\n",
              "      <td>0.274523</td>\n",
              "      <td>-1.409323</td>\n",
              "      <td>-1.686062</td>\n",
              "      <td>0.908677</td>\n",
              "      <td>1.658385</td>\n",
              "      <td>-0.074923</td>\n",
              "      <td>0.880677</td>\n",
              "      <td>0.809631</td>\n",
              "      <td>0.649015</td>\n",
              "      <td>0.381477</td>\n",
              "      <td>0.243877</td>\n",
              "      <td>1.373108</td>\n",
              "      <td>0.131938</td>\n",
              "      <td>-0.410415</td>\n",
              "      <td>0.984492</td>\n",
              "      <td>-0.333662</td>\n",
              "      <td>-1.849538</td>\n",
              "      <td>0.574554</td>\n",
              "      <td>1.963231</td>\n",
              "      <td>-0.505369</td>\n",
              "      <td>-0.108</td>\n",
              "      <td>-0.416723</td>\n",
              "      <td>-0.252831</td>\n",
              "      <td>0.908154</td>\n",
              "      <td>-0.163754</td>\n",
              "      <td>0.547923</td>\n",
              "      <td>2.258354</td>\n",
              "      <td>-0.5472</td>\n",
              "      <td>-0.271477</td>\n",
              "      <td>-1.535215</td>\n",
              "      <td>-0.701538</td>\n",
              "      <td>0.562123</td>\n",
              "      <td>-1.215723</td>\n",
              "      <td>0.687862</td>\n",
              "      <td>-0.328215</td>\n",
              "      <td>0.991046</td>\n",
              "      <td>1.012877</td>\n",
              "      <td>1.271969</td>\n",
              "      <td>-0.043354</td>\n",
              "      <td>-0.1332</td>\n",
              "      <td>...</td>\n",
              "      <td>-0.1054</td>\n",
              "      <td>-0.003523</td>\n",
              "      <td>-0.598385</td>\n",
              "      <td>0.359677</td>\n",
              "      <td>-0.4114</td>\n",
              "      <td>-0.620431</td>\n",
              "      <td>-0.005215</td>\n",
              "      <td>-0.202585</td>\n",
              "      <td>-0.075554</td>\n",
              "      <td>-0.029985</td>\n",
              "      <td>-0.321369</td>\n",
              "      <td>-0.2726</td>\n",
              "      <td>-0.106554</td>\n",
              "      <td>0.287908</td>\n",
              "      <td>-0.233785</td>\n",
              "      <td>-0.900646</td>\n",
              "      <td>0.880138</td>\n",
              "      <td>-0.254492</td>\n",
              "      <td>0.542277</td>\n",
              "      <td>0.014708</td>\n",
              "      <td>0.167738</td>\n",
              "      <td>-0.541754</td>\n",
              "      <td>0.012662</td>\n",
              "      <td>-1.410585</td>\n",
              "      <td>-0.978862</td>\n",
              "      <td>-0.088231</td>\n",
              "      <td>-0.308877</td>\n",
              "      <td>0.178262</td>\n",
              "      <td>-0.887369</td>\n",
              "      <td>0.142138</td>\n",
              "      <td>0.366154</td>\n",
              "      <td>-0.627754</td>\n",
              "      <td>-0.047877</td>\n",
              "      <td>0.405908</td>\n",
              "      <td>2.227554</td>\n",
              "      <td>0.040246</td>\n",
              "      <td>0.616462</td>\n",
              "      <td>-0.775677</td>\n",
              "      <td>-0.243108</td>\n",
              "      <td>-0.433708</td>\n",
              "    </tr>\n",
              "    <tr>\n",
              "      <th>ACHN</th>\n",
              "      <td>-0.875477</td>\n",
              "      <td>-1.409323</td>\n",
              "      <td>-1.686062</td>\n",
              "      <td>0.348677</td>\n",
              "      <td>-0.291615</td>\n",
              "      <td>-0.014923</td>\n",
              "      <td>-0.809323</td>\n",
              "      <td>1.179631</td>\n",
              "      <td>-0.500985</td>\n",
              "      <td>-1.038523</td>\n",
              "      <td>-1.556123</td>\n",
              "      <td>0.373108</td>\n",
              "      <td>-0.298062</td>\n",
              "      <td>-0.180415</td>\n",
              "      <td>0.504492</td>\n",
              "      <td>-0.323662</td>\n",
              "      <td>-1.769538</td>\n",
              "      <td>-0.455446</td>\n",
              "      <td>1.743231</td>\n",
              "      <td>-0.505369</td>\n",
              "      <td>-0.858</td>\n",
              "      <td>-0.446723</td>\n",
              "      <td>-0.222831</td>\n",
              "      <td>-0.261846</td>\n",
              "      <td>-0.203754</td>\n",
              "      <td>0.087923</td>\n",
              "      <td>0.488354</td>\n",
              "      <td>-0.5072</td>\n",
              "      <td>-0.211477</td>\n",
              "      <td>-0.625215</td>\n",
              "      <td>1.098462</td>\n",
              "      <td>-0.227877</td>\n",
              "      <td>-1.575723</td>\n",
              "      <td>-0.592138</td>\n",
              "      <td>-0.018215</td>\n",
              "      <td>0.191046</td>\n",
              "      <td>-0.587123</td>\n",
              "      <td>-0.198031</td>\n",
              "      <td>-1.413354</td>\n",
              "      <td>-0.1632</td>\n",
              "      <td>...</td>\n",
              "      <td>-0.0954</td>\n",
              "      <td>-0.633523</td>\n",
              "      <td>1.081615</td>\n",
              "      <td>0.299677</td>\n",
              "      <td>-0.6114</td>\n",
              "      <td>-0.680431</td>\n",
              "      <td>-0.005215</td>\n",
              "      <td>-0.202585</td>\n",
              "      <td>-0.075554</td>\n",
              "      <td>-0.029985</td>\n",
              "      <td>-0.901369</td>\n",
              "      <td>0.2874</td>\n",
              "      <td>-0.106554</td>\n",
              "      <td>0.307908</td>\n",
              "      <td>-0.133785</td>\n",
              "      <td>-0.940646</td>\n",
              "      <td>-0.629862</td>\n",
              "      <td>-0.254492</td>\n",
              "      <td>-0.427723</td>\n",
              "      <td>-0.345292</td>\n",
              "      <td>0.427738</td>\n",
              "      <td>-0.851754</td>\n",
              "      <td>-0.197338</td>\n",
              "      <td>0.199415</td>\n",
              "      <td>-1.218862</td>\n",
              "      <td>-0.088231</td>\n",
              "      <td>-0.098877</td>\n",
              "      <td>-1.321738</td>\n",
              "      <td>-0.837369</td>\n",
              "      <td>-0.757862</td>\n",
              "      <td>0.266154</td>\n",
              "      <td>0.092246</td>\n",
              "      <td>0.192123</td>\n",
              "      <td>-0.854092</td>\n",
              "      <td>0.947554</td>\n",
              "      <td>-0.259754</td>\n",
              "      <td>-0.533538</td>\n",
              "      <td>-1.125677</td>\n",
              "      <td>-1.633108</td>\n",
              "      <td>-0.203708</td>\n",
              "    </tr>\n",
              "    <tr>\n",
              "      <th>BT-549</th>\n",
              "      <td>2.484523</td>\n",
              "      <td>-1.409323</td>\n",
              "      <td>-1.696062</td>\n",
              "      <td>1.098677</td>\n",
              "      <td>-0.011615</td>\n",
              "      <td>-2.114923</td>\n",
              "      <td>-0.809323</td>\n",
              "      <td>1.379631</td>\n",
              "      <td>-0.630985</td>\n",
              "      <td>-1.168523</td>\n",
              "      <td>-0.376123</td>\n",
              "      <td>0.893108</td>\n",
              "      <td>-0.128062</td>\n",
              "      <td>-0.260415</td>\n",
              "      <td>0.744492</td>\n",
              "      <td>-0.333662</td>\n",
              "      <td>-1.939538</td>\n",
              "      <td>-1.265446</td>\n",
              "      <td>3.053231</td>\n",
              "      <td>-0.355369</td>\n",
              "      <td>0.202</td>\n",
              "      <td>-0.376723</td>\n",
              "      <td>-0.152831</td>\n",
              "      <td>-0.311846</td>\n",
              "      <td>-0.203754</td>\n",
              "      <td>-0.252077</td>\n",
              "      <td>-0.371646</td>\n",
              "      <td>0.1728</td>\n",
              "      <td>-0.291477</td>\n",
              "      <td>-0.975215</td>\n",
              "      <td>-1.331538</td>\n",
              "      <td>-0.227877</td>\n",
              "      <td>0.604277</td>\n",
              "      <td>-0.142138</td>\n",
              "      <td>-1.098215</td>\n",
              "      <td>0.391046</td>\n",
              "      <td>1.222877</td>\n",
              "      <td>0.521969</td>\n",
              "      <td>-0.843354</td>\n",
              "      <td>-0.1532</td>\n",
              "      <td>...</td>\n",
              "      <td>0.1446</td>\n",
              "      <td>0.606477</td>\n",
              "      <td>0.291615</td>\n",
              "      <td>0.939677</td>\n",
              "      <td>-0.3714</td>\n",
              "      <td>-0.430431</td>\n",
              "      <td>-0.005215</td>\n",
              "      <td>-0.202585</td>\n",
              "      <td>-0.075554</td>\n",
              "      <td>-0.029985</td>\n",
              "      <td>-0.991369</td>\n",
              "      <td>1.2574</td>\n",
              "      <td>0.633446</td>\n",
              "      <td>-1.222092</td>\n",
              "      <td>0.126215</td>\n",
              "      <td>1.419354</td>\n",
              "      <td>-0.269862</td>\n",
              "      <td>0.045508</td>\n",
              "      <td>0.142277</td>\n",
              "      <td>0.214708</td>\n",
              "      <td>-0.222262</td>\n",
              "      <td>0.288246</td>\n",
              "      <td>-0.127338</td>\n",
              "      <td>-0.070585</td>\n",
              "      <td>-1.548862</td>\n",
              "      <td>-0.088231</td>\n",
              "      <td>0.391123</td>\n",
              "      <td>-0.341738</td>\n",
              "      <td>-0.607369</td>\n",
              "      <td>0.502138</td>\n",
              "      <td>0.306154</td>\n",
              "      <td>0.702246</td>\n",
              "      <td>0.752123</td>\n",
              "      <td>0.465908</td>\n",
              "      <td>0.887554</td>\n",
              "      <td>-0.199754</td>\n",
              "      <td>-0.083538</td>\n",
              "      <td>-0.785677</td>\n",
              "      <td>-0.773108</td>\n",
              "      <td>0.586292</td>\n",
              "    </tr>\n",
              "  </tbody>\n",
              "</table>\n",
              "<p>5 rows × 9994 columns</p>\n",
              "</div>\n",
              "      <button class=\"colab-df-convert\" onclick=\"convertToInteractive('df-b7ad754b-0d14-403c-8a56-9d0428790b74')\"\n",
              "              title=\"Convert this dataframe to an interactive table.\"\n",
              "              style=\"display:none;\">\n",
              "        \n",
              "  <svg xmlns=\"http://www.w3.org/2000/svg\" height=\"24px\"viewBox=\"0 0 24 24\"\n",
              "       width=\"24px\">\n",
              "    <path d=\"M0 0h24v24H0V0z\" fill=\"none\"/>\n",
              "    <path d=\"M18.56 5.44l.94 2.06.94-2.06 2.06-.94-2.06-.94-.94-2.06-.94 2.06-2.06.94zm-11 1L8.5 8.5l.94-2.06 2.06-.94-2.06-.94L8.5 2.5l-.94 2.06-2.06.94zm10 10l.94 2.06.94-2.06 2.06-.94-2.06-.94-.94-2.06-.94 2.06-2.06.94z\"/><path d=\"M17.41 7.96l-1.37-1.37c-.4-.4-.92-.59-1.43-.59-.52 0-1.04.2-1.43.59L10.3 9.45l-7.72 7.72c-.78.78-.78 2.05 0 2.83L4 21.41c.39.39.9.59 1.41.59.51 0 1.02-.2 1.41-.59l7.78-7.78 2.81-2.81c.8-.78.8-2.07 0-2.86zM5.41 20L4 18.59l7.72-7.72 1.47 1.35L5.41 20z\"/>\n",
              "  </svg>\n",
              "      </button>\n",
              "      \n",
              "  <style>\n",
              "    .colab-df-container {\n",
              "      display:flex;\n",
              "      flex-wrap:wrap;\n",
              "      gap: 12px;\n",
              "    }\n",
              "\n",
              "    .colab-df-convert {\n",
              "      background-color: #E8F0FE;\n",
              "      border: none;\n",
              "      border-radius: 50%;\n",
              "      cursor: pointer;\n",
              "      display: none;\n",
              "      fill: #1967D2;\n",
              "      height: 32px;\n",
              "      padding: 0 0 0 0;\n",
              "      width: 32px;\n",
              "    }\n",
              "\n",
              "    .colab-df-convert:hover {\n",
              "      background-color: #E2EBFA;\n",
              "      box-shadow: 0px 1px 2px rgba(60, 64, 67, 0.3), 0px 1px 3px 1px rgba(60, 64, 67, 0.15);\n",
              "      fill: #174EA6;\n",
              "    }\n",
              "\n",
              "    [theme=dark] .colab-df-convert {\n",
              "      background-color: #3B4455;\n",
              "      fill: #D2E3FC;\n",
              "    }\n",
              "\n",
              "    [theme=dark] .colab-df-convert:hover {\n",
              "      background-color: #434B5C;\n",
              "      box-shadow: 0px 1px 3px 1px rgba(0, 0, 0, 0.15);\n",
              "      filter: drop-shadow(0px 1px 2px rgba(0, 0, 0, 0.3));\n",
              "      fill: #FFFFFF;\n",
              "    }\n",
              "  </style>\n",
              "\n",
              "      <script>\n",
              "        const buttonEl =\n",
              "          document.querySelector('#df-b7ad754b-0d14-403c-8a56-9d0428790b74 button.colab-df-convert');\n",
              "        buttonEl.style.display =\n",
              "          google.colab.kernel.accessAllowed ? 'block' : 'none';\n",
              "\n",
              "        async function convertToInteractive(key) {\n",
              "          const element = document.querySelector('#df-b7ad754b-0d14-403c-8a56-9d0428790b74');\n",
              "          const dataTable =\n",
              "            await google.colab.kernel.invokeFunction('convertToInteractive',\n",
              "                                                     [key], {});\n",
              "          if (!dataTable) return;\n",
              "\n",
              "          const docLinkHtml = 'Like what you see? Visit the ' +\n",
              "            '<a target=\"_blank\" href=https://colab.research.google.com/notebooks/data_table.ipynb>data table notebook</a>'\n",
              "            + ' to learn more about interactive tables.';\n",
              "          element.innerHTML = '';\n",
              "          dataTable['output_type'] = 'display_data';\n",
              "          await google.colab.output.renderOutput(dataTable, element);\n",
              "          const docLink = document.createElement('div');\n",
              "          docLink.innerHTML = docLinkHtml;\n",
              "          element.appendChild(docLink);\n",
              "        }\n",
              "      </script>\n",
              "    </div>\n",
              "  </div>\n",
              "  "
            ],
            "text/plain": [
              "gene        A1BG       A2M     A2ML1  ...      ZXDC    ZYG11B      ZZZ3\n",
              "786-0  -1.025477 -1.409323 -1.696062  ... -0.565677 -0.243108  0.456292\n",
              "A498   -0.925477 -1.409323 -1.686062  ... -0.705677 -0.233108 -0.113708\n",
              "A549    0.274523 -1.409323 -1.686062  ... -0.775677 -0.243108 -0.433708\n",
              "ACHN   -0.875477 -1.409323 -1.686062  ... -1.125677 -1.633108 -0.203708\n",
              "BT-549  2.484523 -1.409323 -1.696062  ... -0.785677 -0.773108  0.586292\n",
              "\n",
              "[5 rows x 9994 columns]"
            ]
          },
          "metadata": {},
          "execution_count": 5
        }
      ]
    },
    {
      "cell_type": "markdown",
      "source": [
        "## **Hierarchical Clustering**\n",
        "\n",
        "It is a method that classifies the classes into different hierarchical clusters. In our case of study, it will group genes in different groups based on their similarity.\n",
        "\n",
        "\n",
        "[*In all of the hierarchical studies I set *optimal_ordering = True* *because it will take the minimal distance between successive leaves and the classification will be more accurate*]"
      ],
      "metadata": {
        "id": "5dBqZtVLzEJv"
      }
    },
    {
      "cell_type": "markdown",
      "source": [
        "### Single method with different metrics\n",
        "\n",
        "The single method is the most famous and oldest of all, also known as the nearest neighbour method, where the distance between two groups is the distance defined between the two nearest members of these groups."
      ],
      "metadata": {
        "id": "eVP_j3DHBMhc"
      }
    },
    {
      "cell_type": "code",
      "source": [
        "cluster = hierarchy.linkage(df_t, method='single', metric='euclidean', optimal_ordering=True)\n",
        "# Dendrogram plotting using linkage matrix\n",
        "plt.figure(figsize=(15,8))\n",
        "dendrogram = hierarchy.dendrogram(cluster, labels = cell_lines)\n",
        "plt.title(\"Single method, euclidean distance\")\n",
        "plt.ylabel(\"Distance\")\n",
        "plt.xlabel('Cell lines')"
      ],
      "metadata": {
        "id": "wtCVlCWjzHw1",
        "colab": {
          "base_uri": "https://localhost:8080/",
          "height": 558
        },
        "outputId": "6a46b09b-c714-4cb7-d882-a3080b89b0da"
      },
      "execution_count": 6,
      "outputs": [
        {
          "output_type": "execute_result",
          "data": {
            "text/plain": [
              "Text(0.5, 0, 'Cell lines')"
            ]
          },
          "metadata": {},
          "execution_count": 6
        },
        {
          "output_type": "display_data",
          "data": {
            "image/png": "[encoded data removed]",
            "text/plain": [
              "<Figure size 1080x576 with 1 Axes>"
            ]
          },
          "metadata": {
            "needs_background": "light"
          }
        }
      ]
    },
    {
      "cell_type": "code",
      "source": [
        "cluster = hierarchy.linkage(df_t, method='single', metric='cityblock', optimal_ordering=True)\n",
        "# Dendrogram plotting using linkage matrix\n",
        "plt.figure(figsize=(15,8))\n",
        "dendrogram = hierarchy.dendrogram(cluster, labels = cell_lines)\n",
        "plt.title(\"Single method, manhattan distance\")\n",
        "plt.ylabel(\"Distance\")\n",
        "plt.xlabel('Cell lines')"
      ],
      "metadata": {
        "colab": {
          "base_uri": "https://localhost:8080/",
          "height": 558
        },
        "id": "ESfJ9CY9jpIV",
        "outputId": "6e04f203-0703-4f8e-8152-3176d73d6d95"
      },
      "execution_count": 18,
      "outputs": [
        {
          "output_type": "execute_result",
          "data": {
            "text/plain": [
              "Text(0.5, 0, 'Cell lines')"
            ]
          },
          "metadata": {},
          "execution_count": 18
        },
        {
          "output_type": "display_data",
          "data": {
            "image/png": "[encoded data removed]",
            "text/plain": [
              "<Figure size 1080x576 with 1 Axes>"
            ]
          },
          "metadata": {
            "needs_background": "light"
          }
        }
      ]
    },
    {
      "cell_type": "code",
      "source": [
        "cluster = hierarchy.linkage(df_t, method='single', metric='chebyshev', optimal_ordering=True)\n",
        "# Dendrogram plotting using linkage matrix\n",
        "plt.figure(figsize=(15,8))\n",
        "dendrogram = hierarchy.dendrogram(cluster, labels = cell_lines)\n",
        "plt.title(\"Single method, chebyshev distance\")\n",
        "plt.ylabel(\"Distance\")\n",
        "plt.xlabel('Cell Lines')"
      ],
      "metadata": {
        "colab": {
          "base_uri": "https://localhost:8080/",
          "height": 558
        },
        "id": "AzJB8HGM1GQI",
        "outputId": "c1c1358f-c0ea-49af-b96c-acd5f2318072"
      },
      "execution_count": 7,
      "outputs": [
        {
          "output_type": "execute_result",
          "data": {
            "text/plain": [
              "Text(0.5, 0, 'Cell Lines')"
            ]
          },
          "metadata": {},
          "execution_count": 7
        },
        {
          "output_type": "display_data",
          "data": {
            "image/png": "[encoded data removed]",
            "text/plain": [
              "<Figure size 1080x576 with 1 Axes>"
            ]
          },
          "metadata": {
            "needs_background": "light"
          }
        }
      ]
    },
    {
      "cell_type": "code",
      "source": [
        "cluster = hierarchy.linkage(df_t, method='single', metric='minkowski', optimal_ordering=True)\n",
        "# Dendrogram plotting using linkage matrix\n",
        "plt.figure(figsize=(15,8))\n",
        "dendrogram = hierarchy.dendrogram(cluster, labels = cell_lines)\n",
        "plt.title(\"Single method, minkowski distance\")\n",
        "plt.ylabel(\"Distance\")\n",
        "plt.xlabel('Cell lines')"
      ],
      "metadata": {
        "colab": {
          "base_uri": "https://localhost:8080/",
          "height": 558
        },
        "id": "EG2r0zi21eFu",
        "outputId": "c6533f7d-da5c-4760-c756-498d4ccb2745"
      },
      "execution_count": 8,
      "outputs": [
        {
          "output_type": "execute_result",
          "data": {
            "text/plain": [
              "Text(0.5, 0, 'Cell lines')"
            ]
          },
          "metadata": {},
          "execution_count": 8
        },
        {
          "output_type": "display_data",
          "data": {
            "image/png": "[encoded data removed]",
            "text/plain": [
              "<Figure size 1080x576 with 1 Axes>"
            ]
          },
          "metadata": {
            "needs_background": "light"
          }
        }
      ]
    },
    {
      "cell_type": "markdown",
      "source": [
        "Most of the genes are classify as the same group (blue color), while the other ones are highly distributed in different groups (green, orange, purple...) that are smaller ones (most of them are just compound by 2 members).\n",
        "\n",
        "Because of we are taking the minimal distance between two points of the two groups, it makes sense that most of the genes are grouped in the same group."
      ],
      "metadata": {
        "id": "2u9S3QOyHi4C"
      }
    },
    {
      "cell_type": "markdown",
      "source": [
        "### Complete method with different metrics\n",
        "\n",
        "The complete method sorts in the opposite way to the previous method, choosing those members of two groups that are farthest apart. Because of this, it makes the clusters formed compact and well separated from each other."
      ],
      "metadata": {
        "id": "l62AGD6fKJh5"
      }
    },
    {
      "cell_type": "code",
      "source": [
        "cluster = hierarchy.linkage(df_t, method='complete', metric='euclidean', optimal_ordering=True)\n",
        "# Dendrogram plotting using linkage matrix\n",
        "plt.figure(figsize=(15,8))\n",
        "dendrogram = hierarchy.dendrogram(cluster, labels = cell_lines)\n",
        "plt.title(\"Complete method, euclidean distance\")\n",
        "plt.ylabel(\"Distance\")\n",
        "plt.xlabel('Cell lines')"
      ],
      "metadata": {
        "id": "PfSYv1zqzx99",
        "colab": {
          "base_uri": "https://localhost:8080/",
          "height": 558
        },
        "outputId": "0638a721-eab8-4d62-ebc1-bb86862e7f53"
      },
      "execution_count": 9,
      "outputs": [
        {
          "output_type": "execute_result",
          "data": {
            "text/plain": [
              "Text(0.5, 0, 'Cell lines')"
            ]
          },
          "metadata": {},
          "execution_count": 9
        },
        {
          "output_type": "display_data",
          "data": {
            "image/png": "[encoded data removed]",
            "text/plain": [
              "<Figure size 1080x576 with 1 Axes>"
            ]
          },
          "metadata": {
            "needs_background": "light"
          }
        }
      ]
    },
    {
      "cell_type": "code",
      "source": [
        "cluster = hierarchy.linkage(df_t, method='complete', metric='cityblock', optimal_ordering=True)\n",
        "# Dendrogram plotting using linkage matrix\n",
        "plt.figure(figsize=(15,8))\n",
        "dendrogram = hierarchy.dendrogram(cluster, labels = cell_lines)\n",
        "plt.title(\"Complete method, manhattan distance\")\n",
        "plt.ylabel(\"Distance\")\n",
        "plt.xlabel('Cell lines')"
      ],
      "metadata": {
        "colab": {
          "base_uri": "https://localhost:8080/",
          "height": 558
        },
        "id": "U_n4pYHhjvN6",
        "outputId": "7ee5ebdc-1b81-4ebe-da16-c5ea1d73416c"
      },
      "execution_count": 20,
      "outputs": [
        {
          "output_type": "execute_result",
          "data": {
            "text/plain": [
              "Text(0.5, 0, 'Cell lines')"
            ]
          },
          "metadata": {},
          "execution_count": 20
        },
        {
          "output_type": "display_data",
          "data": {
            "image/png": "[encoded data removed]",
            "text/plain": [
              "<Figure size 1080x576 with 1 Axes>"
            ]
          },
          "metadata": {
            "needs_background": "light"
          }
        }
      ]
    },
    {
      "cell_type": "code",
      "source": [
        "cluster = hierarchy.linkage(df_t, method='complete', metric='chebyshev', optimal_ordering=True)\n",
        "# Dendrogram plotting using linkage matrix\n",
        "plt.figure(figsize=(15,8))\n",
        "dendrogram = hierarchy.dendrogram(cluster, labels = cell_lines)\n",
        "plt.title(\"Complete method, chebyshev distance\")\n",
        "plt.ylabel(\"Distance\")\n",
        "plt.xlabel('Cell lines')"
      ],
      "metadata": {
        "colab": {
          "base_uri": "https://localhost:8080/",
          "height": 558
        },
        "id": "D4Umbg471uc_",
        "outputId": "79770706-03c3-4200-ba86-19d1ab3c340e"
      },
      "execution_count": 10,
      "outputs": [
        {
          "output_type": "execute_result",
          "data": {
            "text/plain": [
              "Text(0.5, 0, 'Cell lines')"
            ]
          },
          "metadata": {},
          "execution_count": 10
        },
        {
          "output_type": "display_data",
          "data": {
            "image/png": "[encoded data removed]",
            "text/plain": [
              "<Figure size 1080x576 with 1 Axes>"
            ]
          },
          "metadata": {
            "needs_background": "light"
          }
        }
      ]
    },
    {
      "cell_type": "code",
      "source": [
        "cluster = hierarchy.linkage(df_t, method='complete', metric='minkowski', optimal_ordering=True)\n",
        "# Dendrogram plotting using linkage matrix\n",
        "plt.figure(figsize=(15,8))\n",
        "dendrogram = hierarchy.dendrogram(cluster, labels = cell_lines)\n",
        "plt.title(\"Complete method, minkowski distance\")\n",
        "plt.ylabel(\"Distance\")\n",
        "plt.xlabel('Cell lines')"
      ],
      "metadata": {
        "colab": {
          "base_uri": "https://localhost:8080/",
          "height": 558
        },
        "id": "kbOTj-sT1x3u",
        "outputId": "f0d8fce9-f931-4bb7-a1f9-69e036cba545"
      },
      "execution_count": 11,
      "outputs": [
        {
          "output_type": "execute_result",
          "data": {
            "text/plain": [
              "Text(0.5, 0, 'Cell lines')"
            ]
          },
          "metadata": {},
          "execution_count": 11
        },
        {
          "output_type": "display_data",
          "data": {
            "image/png": "[encoded data removed]",
            "text/plain": [
              "<Figure size 1080x576 with 1 Axes>"
            ]
          },
          "metadata": {
            "needs_background": "light"
          }
        }
      ]
    },
    {
      "cell_type": "markdown",
      "source": [
        "In contrast with the single method, the complete method set more groups between the different genes, being this classification more heterogeneus.\n",
        "\n",
        "This makes sense because when you are grouping by farthest distance, the number of groups are higher because there are less similarity."
      ],
      "metadata": {
        "id": "DO4hQbcZKlXq"
      }
    },
    {
      "cell_type": "markdown",
      "source": [
        "### Average method with different metrics\n",
        "\n",
        "The average method classifies clusters according to the distance between the centroids of each group (i.e. the most representative point of each group). This ranking method can introduce classifications that are difficult to interpret due to the fact that the merging of new clusters occurs at different levels."
      ],
      "metadata": {
        "id": "wDlxUP3FSIOh"
      }
    },
    {
      "cell_type": "code",
      "source": [
        "cluster = hierarchy.linkage(df_t, method='average', metric='euclidean', optimal_ordering=True)\n",
        "# Dendrogram plotting using linkage matrix\n",
        "plt.figure(figsize=(15,8))\n",
        "dendrogram = hierarchy.dendrogram(cluster, labels = cell_lines)\n",
        "plt.title(\"Average method, euclidean distance\")\n",
        "plt.ylabel(\"Distance\")\n",
        "plt.xlabel('Cell lines')"
      ],
      "metadata": {
        "id": "T8lim-dTz9wm",
        "colab": {
          "base_uri": "https://localhost:8080/",
          "height": 558
        },
        "outputId": "bf8fca43-3de0-4369-bfde-f9a1cb9b178f"
      },
      "execution_count": 12,
      "outputs": [
        {
          "output_type": "execute_result",
          "data": {
            "text/plain": [
              "Text(0.5, 0, 'Cell lines')"
            ]
          },
          "metadata": {},
          "execution_count": 12
        },
        {
          "output_type": "display_data",
          "data": {
            "image/png": "[encoded data removed]",
            "text/plain": [
              "<Figure size 1080x576 with 1 Axes>"
            ]
          },
          "metadata": {
            "needs_background": "light"
          }
        }
      ]
    },
    {
      "cell_type": "code",
      "source": [
        "cluster = hierarchy.linkage(df_t, method='average', metric='cityblock', optimal_ordering=True)\n",
        "# Dendrogram plotting using linkage matrix\n",
        "plt.figure(figsize=(15,8))\n",
        "dendrogram = hierarchy.dendrogram(cluster, labels = cell_lines)\n",
        "plt.title(\"Average method, manhattan distance\")\n",
        "plt.ylabel(\"Distance\")\n",
        "plt.xlabel('Cell lines')"
      ],
      "metadata": {
        "colab": {
          "base_uri": "https://localhost:8080/",
          "height": 558
        },
        "id": "-S269P7xj1rz",
        "outputId": "1e13c480-61ab-4321-fd91-e042a6a3fef0"
      },
      "execution_count": 21,
      "outputs": [
        {
          "output_type": "execute_result",
          "data": {
            "text/plain": [
              "Text(0.5, 0, 'Cell lines')"
            ]
          },
          "metadata": {},
          "execution_count": 21
        },
        {
          "output_type": "display_data",
          "data": {
            "image/png": "[encoded data removed]",
            "text/plain": [
              "<Figure size 1080x576 with 1 Axes>"
            ]
          },
          "metadata": {
            "needs_background": "light"
          }
        }
      ]
    },
    {
      "cell_type": "markdown",
      "source": [
        "In this case, we see a distribution similar to the single method, where most of the genes are classified in the same group while the other ones are classified into smaller ones.\n",
        "\n",
        "As I commented in the PDF, this method creates clusters at different levels making it difficult to understand the real classification of the data."
      ],
      "metadata": {
        "id": "M0uLsGeE1wBv"
      }
    },
    {
      "cell_type": "markdown",
      "source": [
        "#### Ward method\n",
        "\n",
        "The last method seen in class is Ward's method where he classifies the groups in such a way that the sum of squares within the group is minimised, i.e. groups that result in a smaller increase in the sum of squares are merged."
      ],
      "metadata": {
        "id": "nmQJ6ZsvSeXA"
      }
    },
    {
      "cell_type": "code",
      "source": [
        "# Ward\n",
        "cluster = hierarchy.linkage(df_t, method='ward', metric='euclidean', optimal_ordering=True)\n",
        "plt.figure(figsize=(15,8))\n",
        "dendrogram = hierarchy.dendrogram(cluster, labels = cell_lines)\n",
        "plt.title(\"Ward method\")\n",
        "plt.ylabel(\"Distance\")\n",
        "plt.xlabel('Cell lines')"
      ],
      "metadata": {
        "id": "579fjh7X0s_e",
        "colab": {
          "base_uri": "https://localhost:8080/",
          "height": 558
        },
        "outputId": "6462bec6-e5d5-4110-d734-2e4a3c2d4261"
      },
      "execution_count": 13,
      "outputs": [
        {
          "output_type": "execute_result",
          "data": {
            "text/plain": [
              "Text(0.5, 0, 'Cell lines')"
            ]
          },
          "metadata": {},
          "execution_count": 13
        },
        {
          "output_type": "display_data",
          "data": {
            "image/png": "[encoded data removed]",
            "text/plain": [
              "<Figure size 1080x576 with 1 Axes>"
            ]
          },
          "metadata": {
            "needs_background": "light"
          }
        }
      ]
    },
    {
      "cell_type": "markdown",
      "source": [
        "This method is the most used (and best) to quantitative variables (the same that we are using). It classifies in a better way the data because it makes 2 large groups and then it creates subgroups between them. We see a better distribution of the clusters than with the other methods."
      ],
      "metadata": {
        "id": "EQZIm417b4Wu"
      }
    },
    {
      "cell_type": "markdown",
      "source": [
        "## **Partitional Clustering**\n",
        "\n",
        "In this part I will analyze the optimal number of clusters to classify the different cell lines and try to understand the connexion between them."
      ],
      "metadata": {
        "id": "MbkO3_3M9Yp6"
      }
    },
    {
      "cell_type": "markdown",
      "source": [
        "### Performing some K-means clustering by varying the number of clusters"
      ],
      "metadata": {
        "id": "dIcX1I28nWuI"
      }
    },
    {
      "cell_type": "markdown",
      "source": [
        "To start, I will create a loop to store the SSW and score values for each k and print the results. With this data, later, I will be able to do an elbow plot and select the best number of cluster by choosing the one with the lowest difference in SSW value between clusters and the one with the highest Silouhette score."
      ],
      "metadata": {
        "id": "BwwktK-TUPQp"
      }
    },
    {
      "cell_type": "code",
      "source": [
        "K = range(2, 10, 1) # Set a range between 2 clusters to 9 \n",
        "SSW = []\n",
        "scores = []\n",
        "\n",
        "for k in K:\n",
        "  model = KMeans(n_clusters= k, random_state = 42) # Setting number of clusters\n",
        "  model.fit(df_t)\n",
        "  label_k = model.predict(df_t)\n",
        "  score_k = silhouette_score(df_t, label_k)\n",
        "  SSW.append(model.inertia_)\n",
        "  scores.append(score_k)\n",
        "  print('For', k, 'clusters, the SSW is', model.inertia_,\n",
        "        '\\nAnd the Silhouete score is', score_k, '\\n')"
      ],
      "metadata": {
        "colab": {
          "base_uri": "https://localhost:8080/"
        },
        "id": "5TLsKsBcv51r",
        "outputId": "25a26cba-f538-44eb-9e5d-d5a572388abb"
      },
      "execution_count": 14,
      "outputs": [
        {
          "output_type": "stream",
          "name": "stdout",
          "text": [
            "For 2 clusters, the SSW is 350044.4926600001 \n",
            "And the Silhouete score is 0.10592698479474807 \n",
            "\n",
            "For 3 clusters, the SSW is 319569.4965012501 \n",
            "And the Silhouete score is 0.10545716423873563 \n",
            "\n",
            "For 4 clusters, the SSW is 294544.4497448833 \n",
            "And the Silhouete score is 0.12194642870622228 \n",
            "\n",
            "For 5 clusters, the SSW is 277026.14662874327 \n",
            "And the Silhouete score is 0.10873902837778296 \n",
            "\n",
            "For 6 clusters, the SSW is 267113.58551294886 \n",
            "And the Silhouete score is 0.0851575909045804 \n",
            "\n",
            "For 7 clusters, the SSW is 255234.48240821442 \n",
            "And the Silhouete score is 0.07985842512770369 \n",
            "\n",
            "For 8 clusters, the SSW is 245006.97674878815 \n",
            "And the Silhouete score is 0.08223364725460675 \n",
            "\n",
            "For 9 clusters, the SSW is 236420.17700833335 \n",
            "And the Silhouete score is 0.08345853295935533 \n",
            "\n"
          ]
        }
      ]
    },
    {
      "cell_type": "markdown",
      "source": [
        "Let's build an elbow plot for SSW and scores to decide:"
      ],
      "metadata": {
        "id": "-Bn6s-fh72lx"
      }
    },
    {
      "cell_type": "code",
      "source": [
        "plt.plot(K, SSW, 'bo-')\n",
        "plt.xlabel('Number of clusters')\n",
        "plt.xlim([2, 9])\n",
        "plt.ylabel('SSW')\n",
        "plt.title('The Elbow Method showing the optimal k')\n",
        "plt.show()"
      ],
      "metadata": {
        "colab": {
          "base_uri": "https://localhost:8080/",
          "height": 294
        },
        "id": "4PSSN9niyI_U",
        "outputId": "99b7f3a0-197a-4797-fc11-fcd13901fa2b"
      },
      "execution_count": 15,
      "outputs": [
        {
          "output_type": "display_data",
          "data": {
            "image/png": "[encoded data removed]",
            "text/plain": [
              "<Figure size 432x288 with 1 Axes>"
            ]
          },
          "metadata": {
            "needs_background": "light"
          }
        }
      ]
    },
    {
      "cell_type": "code",
      "source": [
        "plt.plot(K, scores, 'ro-')\n",
        "plt.xlim([2, 9])\n",
        "plt.xlabel('Number of clusters')\n",
        "plt.ylabel('scores')\n",
        "plt.title('The Elbow Method showing the optimal k')\n",
        "plt.show()"
      ],
      "metadata": {
        "colab": {
          "base_uri": "https://localhost:8080/",
          "height": 294
        },
        "id": "jKV9TPCywd6u",
        "outputId": "a570482f-2075-4266-d94c-4a89ff5f3b47"
      },
      "execution_count": 16,
      "outputs": [
        {
          "output_type": "display_data",
          "data": {
            "image/png": "[encoded data removed]",
            "text/plain": [
              "<Figure size 432x288 with 1 Axes>"
            ]
          },
          "metadata": {
            "needs_background": "light"
          }
        }
      ]
    },
    {
      "cell_type": "markdown",
      "source": [
        "Let's visualize the average Silouhette Score and the clusters:"
      ],
      "metadata": {
        "id": "aRZFytpn76P9"
      }
    },
    {
      "cell_type": "code",
      "source": [
        "model = KMeans(4, random_state=42)\n",
        "visualizer = SilhouetteVisualizer(model, colors='yellowbrick')\n",
        "visualizer.fit(df_t)\n",
        "visualizer.show()       "
      ],
      "metadata": {
        "colab": {
          "base_uri": "https://localhost:8080/",
          "height": 311
        },
        "id": "AC_6opaV4hjS",
        "outputId": "656236b3-7f25-48fe-c6f6-c3bb065ce9c6"
      },
      "execution_count": 17,
      "outputs": [
        {
          "output_type": "display_data",
          "data": {
            "image/png": "[encoded data removed]",
            "text/plain": [
              "<Figure size 432x288 with 1 Axes>"
            ]
          },
          "metadata": {
            "needs_background": "light"
          }
        },
        {
          "output_type": "execute_result",
          "data": {
            "text/plain": [
              "<matplotlib.axes._subplots.AxesSubplot at 0x7f29719417d0>"
            ]
          },
          "metadata": {},
          "execution_count": 17
        }
      ]
    },
    {
      "cell_type": "markdown",
      "source": [
        "By analysing the SSW, the Silouhette score and the average Silouhette Score, I can conclude that the optimal number of clusters for this example is 4, because from 3 to 4 the SSW is still high but from 4 to 5 it isn't, while the silouhette score for 4 is the highest one. Besides, for 4 clusters all of them reach the mean Silouhette score value.\n",
        "\n",
        "For all of this, I choose as number of clusters 4."
      ],
      "metadata": {
        "id": "5nsxBlKxdlw8"
      }
    }
  ]
}