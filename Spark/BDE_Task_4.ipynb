{
  "nbformat": 4,
  "nbformat_minor": 0,
  "metadata": {
    "colab": {
      "name": "Task 4 - Predicting dog food spoiling.ipynb",
      "provenance": [],
      "collapsed_sections": []
    },
    "kernelspec": {
      "name": "python3",
      "display_name": "Python 3"
    },
    "language_info": {
      "name": "python"
    }
  },
  "cells": [
    {
      "cell_type": "code",
      "metadata": {
        "id": "oahBHRKl8bQ5"
      },
      "source": [
        "!apt-get install openjdk-8-jdk-headless -qq > /dev/null\n",
        "!wget -q https://mirrors.sonic.net/apache/spark/spark-3.1.2/spark-3.1.2-bin-hadoop3.2.tgz\n",
        "!tar xzf spark-3.1.2-bin-hadoop3.2.tgz\n",
        "!pip install -q findspark\n",
        "\n",
        "\n",
        "import os\n",
        "os.environ[\"JAVA_HOME\"] = \"/usr/lib/jvm/java-8-openjdk-amd64\"\n",
        "os.environ[\"SPARK_HOME\"] = \"/content/spark-3.1.2-bin-hadoop3.2\"\n",
        "\n",
        "\n",
        "import findspark\n",
        "findspark.init()\n",
        "from pyspark.sql import SparkSession\n",
        "spark = SparkSession.builder.master(\"local[*]\").getOrCreate()"
      ],
      "execution_count": null,
      "outputs": []
    },
    {
      "cell_type": "markdown",
      "metadata": {
        "id": "pdP72pevWfl9"
      },
      "source": [
        "Load the data:"
      ]
    },
    {
      "cell_type": "code",
      "metadata": {
        "colab": {
          "base_uri": "https://localhost:8080/"
        },
        "id": "cyCi8ANB8la9",
        "outputId": "8e25b0ba-1a49-462b-88dd-866fdf743dc2"
      },
      "source": [
        "df = spark.read.options(header = True, inferSchema = True).csv(\"drive/MyDrive/Colab Notebooks/dog_food.csv\"); df"
      ],
      "execution_count": null,
      "outputs": [
        {
          "output_type": "execute_result",
          "data": {
            "text/plain": [
              "DataFrame[A: int, B: int, C: double, D: int, Spoiled: double]"
            ]
          },
          "metadata": {},
          "execution_count": 2
        }
      ]
    },
    {
      "cell_type": "markdown",
      "metadata": {
        "id": "GmA3PvavWjRT"
      },
      "source": [
        "Analyze each column:"
      ]
    },
    {
      "cell_type": "code",
      "metadata": {
        "colab": {
          "base_uri": "https://localhost:8080/"
        },
        "id": "PoqFbus-9Fas",
        "outputId": "07f0d53a-49ac-4ebd-ebb0-a238b6e6fb1d"
      },
      "source": [
        "df.printSchema() # No strings as columns values, so we don't need to index it."
      ],
      "execution_count": null,
      "outputs": [
        {
          "output_type": "stream",
          "name": "stdout",
          "text": [
            "root\n",
            " |-- A: integer (nullable = true)\n",
            " |-- B: integer (nullable = true)\n",
            " |-- C: double (nullable = true)\n",
            " |-- D: integer (nullable = true)\n",
            " |-- Spoiled: double (nullable = true)\n",
            "\n"
          ]
        }
      ]
    },
    {
      "cell_type": "code",
      "metadata": {
        "colab": {
          "base_uri": "https://localhost:8080/"
        },
        "id": "y_vcpKMW95AE",
        "outputId": "48400b43-3028-4b0c-eb03-0d966aea9783"
      },
      "source": [
        "df.columns"
      ],
      "execution_count": null,
      "outputs": [
        {
          "output_type": "execute_result",
          "data": {
            "text/plain": [
              "['A', 'B', 'C', 'D', 'Spoiled']"
            ]
          },
          "metadata": {},
          "execution_count": 4
        }
      ]
    },
    {
      "cell_type": "markdown",
      "metadata": {
        "id": "GKeo54Sq-iaV"
      },
      "source": [
        "Create features column:"
      ]
    },
    {
      "cell_type": "code",
      "metadata": {
        "id": "Pz-djlXk-Efs"
      },
      "source": [
        "from pyspark.ml.feature import VectorAssembler, StringIndexer"
      ],
      "execution_count": null,
      "outputs": []
    },
    {
      "cell_type": "code",
      "metadata": {
        "colab": {
          "base_uri": "https://localhost:8080/",
          "height": 419
        },
        "id": "uJey5T5J-Gw2",
        "outputId": "52c0baf6-777b-4124-9782-23acc36f675b"
      },
      "source": [
        "assembler = VectorAssembler(inputCols=['A','B','C','D'], outputCol='features')\n",
        "final_data = assembler.transform(df); final_data.toPandas()"
      ],
      "execution_count": null,
      "outputs": [
        {
          "output_type": "execute_result",
          "data": {
            "text/html": [
              "<div>\n",
              "<style scoped>\n",
              "    .dataframe tbody tr th:only-of-type {\n",
              "        vertical-align: middle;\n",
              "    }\n",
              "\n",
              "    .dataframe tbody tr th {\n",
              "        vertical-align: top;\n",
              "    }\n",
              "\n",
              "    .dataframe thead th {\n",
              "        text-align: right;\n",
              "    }\n",
              "</style>\n",
              "<table border=\"1\" class=\"dataframe\">\n",
              "  <thead>\n",
              "    <tr style=\"text-align: right;\">\n",
              "      <th></th>\n",
              "      <th>A</th>\n",
              "      <th>B</th>\n",
              "      <th>C</th>\n",
              "      <th>D</th>\n",
              "      <th>Spoiled</th>\n",
              "      <th>features</th>\n",
              "    </tr>\n",
              "  </thead>\n",
              "  <tbody>\n",
              "    <tr>\n",
              "      <th>0</th>\n",
              "      <td>4</td>\n",
              "      <td>2</td>\n",
              "      <td>12.0</td>\n",
              "      <td>3</td>\n",
              "      <td>1.0</td>\n",
              "      <td>[4.0, 2.0, 12.0, 3.0]</td>\n",
              "    </tr>\n",
              "    <tr>\n",
              "      <th>1</th>\n",
              "      <td>5</td>\n",
              "      <td>6</td>\n",
              "      <td>12.0</td>\n",
              "      <td>7</td>\n",
              "      <td>1.0</td>\n",
              "      <td>[5.0, 6.0, 12.0, 7.0]</td>\n",
              "    </tr>\n",
              "    <tr>\n",
              "      <th>2</th>\n",
              "      <td>6</td>\n",
              "      <td>2</td>\n",
              "      <td>13.0</td>\n",
              "      <td>6</td>\n",
              "      <td>1.0</td>\n",
              "      <td>[6.0, 2.0, 13.0, 6.0]</td>\n",
              "    </tr>\n",
              "    <tr>\n",
              "      <th>3</th>\n",
              "      <td>4</td>\n",
              "      <td>2</td>\n",
              "      <td>12.0</td>\n",
              "      <td>1</td>\n",
              "      <td>1.0</td>\n",
              "      <td>[4.0, 2.0, 12.0, 1.0]</td>\n",
              "    </tr>\n",
              "    <tr>\n",
              "      <th>4</th>\n",
              "      <td>4</td>\n",
              "      <td>2</td>\n",
              "      <td>12.0</td>\n",
              "      <td>3</td>\n",
              "      <td>1.0</td>\n",
              "      <td>[4.0, 2.0, 12.0, 3.0]</td>\n",
              "    </tr>\n",
              "    <tr>\n",
              "      <th>...</th>\n",
              "      <td>...</td>\n",
              "      <td>...</td>\n",
              "      <td>...</td>\n",
              "      <td>...</td>\n",
              "      <td>...</td>\n",
              "      <td>...</td>\n",
              "    </tr>\n",
              "    <tr>\n",
              "      <th>485</th>\n",
              "      <td>8</td>\n",
              "      <td>3</td>\n",
              "      <td>6.0</td>\n",
              "      <td>6</td>\n",
              "      <td>0.0</td>\n",
              "      <td>[8.0, 3.0, 6.0, 6.0]</td>\n",
              "    </tr>\n",
              "    <tr>\n",
              "      <th>486</th>\n",
              "      <td>6</td>\n",
              "      <td>4</td>\n",
              "      <td>9.0</td>\n",
              "      <td>10</td>\n",
              "      <td>0.0</td>\n",
              "      <td>[6.0, 4.0, 9.0, 10.0]</td>\n",
              "    </tr>\n",
              "    <tr>\n",
              "      <th>487</th>\n",
              "      <td>1</td>\n",
              "      <td>3</td>\n",
              "      <td>8.0</td>\n",
              "      <td>3</td>\n",
              "      <td>0.0</td>\n",
              "      <td>[1.0, 3.0, 8.0, 3.0]</td>\n",
              "    </tr>\n",
              "    <tr>\n",
              "      <th>488</th>\n",
              "      <td>6</td>\n",
              "      <td>6</td>\n",
              "      <td>8.0</td>\n",
              "      <td>3</td>\n",
              "      <td>0.0</td>\n",
              "      <td>[6.0, 6.0, 8.0, 3.0]</td>\n",
              "    </tr>\n",
              "    <tr>\n",
              "      <th>489</th>\n",
              "      <td>1</td>\n",
              "      <td>9</td>\n",
              "      <td>7.0</td>\n",
              "      <td>4</td>\n",
              "      <td>0.0</td>\n",
              "      <td>[1.0, 9.0, 7.0, 4.0]</td>\n",
              "    </tr>\n",
              "  </tbody>\n",
              "</table>\n",
              "<p>490 rows × 6 columns</p>\n",
              "</div>"
            ],
            "text/plain": [
              "     A  B     C   D  Spoiled               features\n",
              "0    4  2  12.0   3      1.0  [4.0, 2.0, 12.0, 3.0]\n",
              "1    5  6  12.0   7      1.0  [5.0, 6.0, 12.0, 7.0]\n",
              "2    6  2  13.0   6      1.0  [6.0, 2.0, 13.0, 6.0]\n",
              "3    4  2  12.0   1      1.0  [4.0, 2.0, 12.0, 1.0]\n",
              "4    4  2  12.0   3      1.0  [4.0, 2.0, 12.0, 3.0]\n",
              "..  .. ..   ...  ..      ...                    ...\n",
              "485  8  3   6.0   6      0.0   [8.0, 3.0, 6.0, 6.0]\n",
              "486  6  4   9.0  10      0.0  [6.0, 4.0, 9.0, 10.0]\n",
              "487  1  3   8.0   3      0.0   [1.0, 3.0, 8.0, 3.0]\n",
              "488  6  6   8.0   3      0.0   [6.0, 6.0, 8.0, 3.0]\n",
              "489  1  9   7.0   4      0.0   [1.0, 9.0, 7.0, 4.0]\n",
              "\n",
              "[490 rows x 6 columns]"
            ]
          },
          "metadata": {},
          "execution_count": 6
        }
      ]
    },
    {
      "cell_type": "code",
      "metadata": {
        "id": "PJvwHNxw-rm1"
      },
      "source": [
        "from pyspark.ml.classification import (RandomForestClassifier)"
      ],
      "execution_count": null,
      "outputs": []
    },
    {
      "cell_type": "code",
      "metadata": {
        "id": "k23SHYjn-y6D"
      },
      "source": [
        "train, test = final_data.randomSplit([0.7, 0.3], 42)"
      ],
      "execution_count": null,
      "outputs": []
    },
    {
      "cell_type": "markdown",
      "source": [
        "Create our classifier:"
      ],
      "metadata": {
        "id": "qLpAo4hkEl6P"
      }
    },
    {
      "cell_type": "code",
      "metadata": {
        "id": "1ccrD5Ph-031"
      },
      "source": [
        "rfc = RandomForestClassifier(numTrees = 100, labelCol='Spoiled')"
      ],
      "execution_count": null,
      "outputs": []
    },
    {
      "cell_type": "markdown",
      "metadata": {
        "id": "9frdjXVtW3m7"
      },
      "source": [
        "Train and predict:"
      ]
    },
    {
      "cell_type": "code",
      "metadata": {
        "id": "3Gc7AFrSPbZd"
      },
      "source": [
        "rfc_model = rfc.fit(train)\n",
        "predictions = rfc_model.transform(test)"
      ],
      "execution_count": null,
      "outputs": []
    },
    {
      "cell_type": "markdown",
      "metadata": {
        "id": "z32Ui8pXW5HE"
      },
      "source": [
        "Check the predictions:"
      ]
    },
    {
      "cell_type": "code",
      "metadata": {
        "colab": {
          "base_uri": "https://localhost:8080/",
          "height": 419
        },
        "id": "uRmRVOyhbV1L",
        "outputId": "b7377129-5abe-4493-d898-d17259a0d0ca"
      },
      "source": [
        "predictions.toPandas()"
      ],
      "execution_count": null,
      "outputs": [
        {
          "output_type": "execute_result",
          "data": {
            "text/html": [
              "<div>\n",
              "<style scoped>\n",
              "    .dataframe tbody tr th:only-of-type {\n",
              "        vertical-align: middle;\n",
              "    }\n",
              "\n",
              "    .dataframe tbody tr th {\n",
              "        vertical-align: top;\n",
              "    }\n",
              "\n",
              "    .dataframe thead th {\n",
              "        text-align: right;\n",
              "    }\n",
              "</style>\n",
              "<table border=\"1\" class=\"dataframe\">\n",
              "  <thead>\n",
              "    <tr style=\"text-align: right;\">\n",
              "      <th></th>\n",
              "      <th>A</th>\n",
              "      <th>B</th>\n",
              "      <th>C</th>\n",
              "      <th>D</th>\n",
              "      <th>Spoiled</th>\n",
              "      <th>features</th>\n",
              "      <th>rawPrediction</th>\n",
              "      <th>probability</th>\n",
              "      <th>prediction</th>\n",
              "    </tr>\n",
              "  </thead>\n",
              "  <tbody>\n",
              "    <tr>\n",
              "      <th>0</th>\n",
              "      <td>1</td>\n",
              "      <td>1</td>\n",
              "      <td>12.0</td>\n",
              "      <td>4</td>\n",
              "      <td>1.0</td>\n",
              "      <td>[1.0, 1.0, 12.0, 4.0]</td>\n",
              "      <td>[2.349140802177153, 97.65085919782285]</td>\n",
              "      <td>[0.02349140802177153, 0.9765085919782286]</td>\n",
              "      <td>1.0</td>\n",
              "    </tr>\n",
              "    <tr>\n",
              "      <th>1</th>\n",
              "      <td>1</td>\n",
              "      <td>3</td>\n",
              "      <td>8.0</td>\n",
              "      <td>3</td>\n",
              "      <td>0.0</td>\n",
              "      <td>[1.0, 3.0, 8.0, 3.0]</td>\n",
              "      <td>[97.83426096457283, 2.1657390354271744]</td>\n",
              "      <td>[0.9783426096457282, 0.021657390354271742]</td>\n",
              "      <td>0.0</td>\n",
              "    </tr>\n",
              "    <tr>\n",
              "      <th>2</th>\n",
              "      <td>1</td>\n",
              "      <td>3</td>\n",
              "      <td>9.0</td>\n",
              "      <td>8</td>\n",
              "      <td>0.0</td>\n",
              "      <td>[1.0, 3.0, 9.0, 8.0]</td>\n",
              "      <td>[96.44343979761874, 3.556560202381255]</td>\n",
              "      <td>[0.9644343979761875, 0.03556560202381256]</td>\n",
              "      <td>0.0</td>\n",
              "    </tr>\n",
              "    <tr>\n",
              "      <th>3</th>\n",
              "      <td>1</td>\n",
              "      <td>4</td>\n",
              "      <td>8.0</td>\n",
              "      <td>1</td>\n",
              "      <td>0.0</td>\n",
              "      <td>[1.0, 4.0, 8.0, 1.0]</td>\n",
              "      <td>[97.76110680801415, 2.2388931919858694]</td>\n",
              "      <td>[0.9776110680801413, 0.02238893191985869]</td>\n",
              "      <td>0.0</td>\n",
              "    </tr>\n",
              "    <tr>\n",
              "      <th>4</th>\n",
              "      <td>1</td>\n",
              "      <td>4</td>\n",
              "      <td>9.0</td>\n",
              "      <td>6</td>\n",
              "      <td>0.0</td>\n",
              "      <td>[1.0, 4.0, 9.0, 6.0]</td>\n",
              "      <td>[97.3707336127964, 2.629266387203602]</td>\n",
              "      <td>[0.973707336127964, 0.02629266387203602]</td>\n",
              "      <td>0.0</td>\n",
              "    </tr>\n",
              "    <tr>\n",
              "      <th>...</th>\n",
              "      <td>...</td>\n",
              "      <td>...</td>\n",
              "      <td>...</td>\n",
              "      <td>...</td>\n",
              "      <td>...</td>\n",
              "      <td>...</td>\n",
              "      <td>...</td>\n",
              "      <td>...</td>\n",
              "      <td>...</td>\n",
              "    </tr>\n",
              "    <tr>\n",
              "      <th>120</th>\n",
              "      <td>10</td>\n",
              "      <td>9</td>\n",
              "      <td>8.0</td>\n",
              "      <td>6</td>\n",
              "      <td>0.0</td>\n",
              "      <td>[10.0, 9.0, 8.0, 6.0]</td>\n",
              "      <td>[98.67553516846924, 1.3244648315307936]</td>\n",
              "      <td>[0.9867553516846921, 0.013244648315307932]</td>\n",
              "      <td>0.0</td>\n",
              "    </tr>\n",
              "    <tr>\n",
              "      <th>121</th>\n",
              "      <td>10</td>\n",
              "      <td>9</td>\n",
              "      <td>9.0</td>\n",
              "      <td>1</td>\n",
              "      <td>0.0</td>\n",
              "      <td>[10.0, 9.0, 9.0, 1.0]</td>\n",
              "      <td>[98.68758166240269, 1.3124183375973466]</td>\n",
              "      <td>[0.9868758166240265, 0.01312418337597346]</td>\n",
              "      <td>0.0</td>\n",
              "    </tr>\n",
              "    <tr>\n",
              "      <th>122</th>\n",
              "      <td>10</td>\n",
              "      <td>9</td>\n",
              "      <td>11.0</td>\n",
              "      <td>9</td>\n",
              "      <td>1.0</td>\n",
              "      <td>[10.0, 9.0, 11.0, 9.0]</td>\n",
              "      <td>[2.5479036598880302, 97.45209634011196]</td>\n",
              "      <td>[0.025479036598880303, 0.9745209634011196]</td>\n",
              "      <td>1.0</td>\n",
              "    </tr>\n",
              "    <tr>\n",
              "      <th>123</th>\n",
              "      <td>10</td>\n",
              "      <td>10</td>\n",
              "      <td>7.0</td>\n",
              "      <td>4</td>\n",
              "      <td>0.0</td>\n",
              "      <td>[10.0, 10.0, 7.0, 4.0]</td>\n",
              "      <td>[97.8090439765592, 2.1909560234408256]</td>\n",
              "      <td>[0.9780904397655918, 0.021909560234408255]</td>\n",
              "      <td>0.0</td>\n",
              "    </tr>\n",
              "    <tr>\n",
              "      <th>124</th>\n",
              "      <td>10</td>\n",
              "      <td>10</td>\n",
              "      <td>14.0</td>\n",
              "      <td>7</td>\n",
              "      <td>1.0</td>\n",
              "      <td>[10.0, 10.0, 14.0, 7.0]</td>\n",
              "      <td>[2.991917441111114, 97.00808255888889]</td>\n",
              "      <td>[0.029919174411111138, 0.9700808255888889]</td>\n",
              "      <td>1.0</td>\n",
              "    </tr>\n",
              "  </tbody>\n",
              "</table>\n",
              "<p>125 rows × 9 columns</p>\n",
              "</div>"
            ],
            "text/plain": [
              "      A   B  ...                                 probability  prediction\n",
              "0     1   1  ...   [0.02349140802177153, 0.9765085919782286]         1.0\n",
              "1     1   3  ...  [0.9783426096457282, 0.021657390354271742]         0.0\n",
              "2     1   3  ...   [0.9644343979761875, 0.03556560202381256]         0.0\n",
              "3     1   4  ...   [0.9776110680801413, 0.02238893191985869]         0.0\n",
              "4     1   4  ...    [0.973707336127964, 0.02629266387203602]         0.0\n",
              "..   ..  ..  ...                                         ...         ...\n",
              "120  10   9  ...  [0.9867553516846921, 0.013244648315307932]         0.0\n",
              "121  10   9  ...   [0.9868758166240265, 0.01312418337597346]         0.0\n",
              "122  10   9  ...  [0.025479036598880303, 0.9745209634011196]         1.0\n",
              "123  10  10  ...  [0.9780904397655918, 0.021909560234408255]         0.0\n",
              "124  10  10  ...  [0.029919174411111138, 0.9700808255888889]         1.0\n",
              "\n",
              "[125 rows x 9 columns]"
            ]
          },
          "metadata": {},
          "execution_count": 104
        }
      ]
    },
    {
      "cell_type": "markdown",
      "metadata": {
        "id": "YwVc7eSGW9yM"
      },
      "source": [
        "Evaluate our classifier:"
      ]
    },
    {
      "cell_type": "code",
      "metadata": {
        "id": "BLT-eBIhS6uc"
      },
      "source": [
        "from pyspark.ml.evaluation import BinaryClassificationEvaluator\n",
        "evaluator = BinaryClassificationEvaluator(rawPredictionCol='prediction', labelCol='Spoiled')"
      ],
      "execution_count": null,
      "outputs": []
    },
    {
      "cell_type": "code",
      "metadata": {
        "colab": {
          "base_uri": "https://localhost:8080/"
        },
        "id": "PseB1fz7UbOd",
        "outputId": "3ba43e2d-a1f1-4bc6-8974-1e5dbb3785c4"
      },
      "source": [
        "evaluator.evaluate(predictions)"
      ],
      "execution_count": null,
      "outputs": [
        {
          "output_type": "execute_result",
          "data": {
            "text/plain": [
              "0.9944444444444445"
            ]
          },
          "metadata": {},
          "execution_count": 106
        }
      ]
    },
    {
      "cell_type": "markdown",
      "metadata": {
        "id": "Q4oua1y2bgHr"
      },
      "source": [
        "## ¿Cuál es es el conservante que más efecto tiene?\n",
        "\n",
        "Para ello, empleamos la función featureImportances que forma parte de la función del modelo. Esta función nos muestra la importancia de cada 'feature' respecto a la predicción. Podemos ver, sin ninguna duda, que la columna con index 2 (C) es la que más importancia tiene con muchísima diferencia.\n",
        "\n",
        "Por tanto, podemos concluír que el conservante C es el que más impacto tiene en que se estropee la comida para perros."
      ]
    },
    {
      "cell_type": "code",
      "metadata": {
        "colab": {
          "base_uri": "https://localhost:8080/"
        },
        "id": "lXMz64ipbyB1",
        "outputId": "64235ea7-601a-4de9-c11e-79eb77b49bed"
      },
      "source": [
        "rfc_model.featureImportances"
      ],
      "execution_count": null,
      "outputs": [
        {
          "output_type": "execute_result",
          "data": {
            "text/plain": [
              "SparseVector(4, {0: 0.0186, 1: 0.0246, 2: 0.9312, 3: 0.0256})"
            ]
          },
          "metadata": {},
          "execution_count": 107
        }
      ]
    },
    {
      "cell_type": "markdown",
      "metadata": {
        "id": "pt96yE4XTTBZ"
      },
      "source": [
        "### BONUS TRACK"
      ]
    },
    {
      "cell_type": "markdown",
      "metadata": {
        "id": "mFfG4mBmTXrk"
      },
      "source": [
        "Let's do it with a pipeline."
      ]
    },
    {
      "cell_type": "code",
      "metadata": {
        "id": "CVo_NxxqTaEN"
      },
      "source": [
        "#First, we need to import the function\n",
        "from pyspark.ml import Pipeline"
      ],
      "execution_count": null,
      "outputs": []
    },
    {
      "cell_type": "markdown",
      "metadata": {
        "id": "H5FuffUeTrW1"
      },
      "source": [
        "Create the stages that will follow our pipeline"
      ]
    },
    {
      "cell_type": "code",
      "metadata": {
        "id": "YPwy7NfhTqol"
      },
      "source": [
        "pip_assem = VectorAssembler(inputCols=['A', 'B', 'C', 'D'], outputCol= 'features')"
      ],
      "execution_count": null,
      "outputs": []
    },
    {
      "cell_type": "code",
      "metadata": {
        "id": "7Vnwk3OjUZ4q"
      },
      "source": [
        "pip_rfc = RandomForestClassifier(numTrees= 100, labelCol= 'Spoiled')"
      ],
      "execution_count": null,
      "outputs": []
    },
    {
      "cell_type": "code",
      "metadata": {
        "id": "adnNyTrsTdAA"
      },
      "source": [
        "pipeline = Pipeline(stages = [pip_assem, pip_rfc])"
      ],
      "execution_count": null,
      "outputs": []
    },
    {
      "cell_type": "code",
      "metadata": {
        "id": "QYNordpdV0ay"
      },
      "source": [
        "pip_train, pip_test = df.randomSplit([0.7, 0.3], 42)"
      ],
      "execution_count": null,
      "outputs": []
    },
    {
      "cell_type": "code",
      "metadata": {
        "id": "Xh5j-KpmVttt"
      },
      "source": [
        "model = pipeline.fit(pip_train)\n",
        "pip_predic = model.transform(pip_test)"
      ],
      "execution_count": null,
      "outputs": []
    },
    {
      "cell_type": "code",
      "metadata": {
        "colab": {
          "base_uri": "https://localhost:8080/",
          "height": 419
        },
        "id": "czndxlMJWguj",
        "outputId": "eed59d19-46e6-4ca6-f461-c8cf78b164c7"
      },
      "source": [
        "pip_predic.toPandas()"
      ],
      "execution_count": null,
      "outputs": [
        {
          "output_type": "execute_result",
          "data": {
            "text/html": [
              "<div>\n",
              "<style scoped>\n",
              "    .dataframe tbody tr th:only-of-type {\n",
              "        vertical-align: middle;\n",
              "    }\n",
              "\n",
              "    .dataframe tbody tr th {\n",
              "        vertical-align: top;\n",
              "    }\n",
              "\n",
              "    .dataframe thead th {\n",
              "        text-align: right;\n",
              "    }\n",
              "</style>\n",
              "<table border=\"1\" class=\"dataframe\">\n",
              "  <thead>\n",
              "    <tr style=\"text-align: right;\">\n",
              "      <th></th>\n",
              "      <th>A</th>\n",
              "      <th>B</th>\n",
              "      <th>C</th>\n",
              "      <th>D</th>\n",
              "      <th>Spoiled</th>\n",
              "      <th>features</th>\n",
              "      <th>rawPrediction</th>\n",
              "      <th>probability</th>\n",
              "      <th>prediction</th>\n",
              "    </tr>\n",
              "  </thead>\n",
              "  <tbody>\n",
              "    <tr>\n",
              "      <th>0</th>\n",
              "      <td>1</td>\n",
              "      <td>1</td>\n",
              "      <td>12.0</td>\n",
              "      <td>4</td>\n",
              "      <td>1.0</td>\n",
              "      <td>[1.0, 1.0, 12.0, 4.0]</td>\n",
              "      <td>[2.349140802177153, 97.65085919782285]</td>\n",
              "      <td>[0.02349140802177153, 0.9765085919782286]</td>\n",
              "      <td>1.0</td>\n",
              "    </tr>\n",
              "    <tr>\n",
              "      <th>1</th>\n",
              "      <td>1</td>\n",
              "      <td>3</td>\n",
              "      <td>8.0</td>\n",
              "      <td>3</td>\n",
              "      <td>0.0</td>\n",
              "      <td>[1.0, 3.0, 8.0, 3.0]</td>\n",
              "      <td>[97.83426096457283, 2.1657390354271744]</td>\n",
              "      <td>[0.9783426096457282, 0.021657390354271742]</td>\n",
              "      <td>0.0</td>\n",
              "    </tr>\n",
              "    <tr>\n",
              "      <th>2</th>\n",
              "      <td>1</td>\n",
              "      <td>3</td>\n",
              "      <td>9.0</td>\n",
              "      <td>8</td>\n",
              "      <td>0.0</td>\n",
              "      <td>[1.0, 3.0, 9.0, 8.0]</td>\n",
              "      <td>[96.44343979761874, 3.556560202381255]</td>\n",
              "      <td>[0.9644343979761875, 0.03556560202381256]</td>\n",
              "      <td>0.0</td>\n",
              "    </tr>\n",
              "    <tr>\n",
              "      <th>3</th>\n",
              "      <td>1</td>\n",
              "      <td>4</td>\n",
              "      <td>8.0</td>\n",
              "      <td>1</td>\n",
              "      <td>0.0</td>\n",
              "      <td>[1.0, 4.0, 8.0, 1.0]</td>\n",
              "      <td>[97.76110680801415, 2.2388931919858694]</td>\n",
              "      <td>[0.9776110680801413, 0.02238893191985869]</td>\n",
              "      <td>0.0</td>\n",
              "    </tr>\n",
              "    <tr>\n",
              "      <th>4</th>\n",
              "      <td>1</td>\n",
              "      <td>4</td>\n",
              "      <td>9.0</td>\n",
              "      <td>6</td>\n",
              "      <td>0.0</td>\n",
              "      <td>[1.0, 4.0, 9.0, 6.0]</td>\n",
              "      <td>[97.3707336127964, 2.629266387203602]</td>\n",
              "      <td>[0.973707336127964, 0.02629266387203602]</td>\n",
              "      <td>0.0</td>\n",
              "    </tr>\n",
              "    <tr>\n",
              "      <th>...</th>\n",
              "      <td>...</td>\n",
              "      <td>...</td>\n",
              "      <td>...</td>\n",
              "      <td>...</td>\n",
              "      <td>...</td>\n",
              "      <td>...</td>\n",
              "      <td>...</td>\n",
              "      <td>...</td>\n",
              "      <td>...</td>\n",
              "    </tr>\n",
              "    <tr>\n",
              "      <th>120</th>\n",
              "      <td>10</td>\n",
              "      <td>9</td>\n",
              "      <td>8.0</td>\n",
              "      <td>6</td>\n",
              "      <td>0.0</td>\n",
              "      <td>[10.0, 9.0, 8.0, 6.0]</td>\n",
              "      <td>[98.67553516846924, 1.3244648315307936]</td>\n",
              "      <td>[0.9867553516846921, 0.013244648315307932]</td>\n",
              "      <td>0.0</td>\n",
              "    </tr>\n",
              "    <tr>\n",
              "      <th>121</th>\n",
              "      <td>10</td>\n",
              "      <td>9</td>\n",
              "      <td>9.0</td>\n",
              "      <td>1</td>\n",
              "      <td>0.0</td>\n",
              "      <td>[10.0, 9.0, 9.0, 1.0]</td>\n",
              "      <td>[98.68758166240269, 1.3124183375973466]</td>\n",
              "      <td>[0.9868758166240265, 0.01312418337597346]</td>\n",
              "      <td>0.0</td>\n",
              "    </tr>\n",
              "    <tr>\n",
              "      <th>122</th>\n",
              "      <td>10</td>\n",
              "      <td>9</td>\n",
              "      <td>11.0</td>\n",
              "      <td>9</td>\n",
              "      <td>1.0</td>\n",
              "      <td>[10.0, 9.0, 11.0, 9.0]</td>\n",
              "      <td>[2.5479036598880302, 97.45209634011196]</td>\n",
              "      <td>[0.025479036598880303, 0.9745209634011196]</td>\n",
              "      <td>1.0</td>\n",
              "    </tr>\n",
              "    <tr>\n",
              "      <th>123</th>\n",
              "      <td>10</td>\n",
              "      <td>10</td>\n",
              "      <td>7.0</td>\n",
              "      <td>4</td>\n",
              "      <td>0.0</td>\n",
              "      <td>[10.0, 10.0, 7.0, 4.0]</td>\n",
              "      <td>[97.8090439765592, 2.1909560234408256]</td>\n",
              "      <td>[0.9780904397655918, 0.021909560234408255]</td>\n",
              "      <td>0.0</td>\n",
              "    </tr>\n",
              "    <tr>\n",
              "      <th>124</th>\n",
              "      <td>10</td>\n",
              "      <td>10</td>\n",
              "      <td>14.0</td>\n",
              "      <td>7</td>\n",
              "      <td>1.0</td>\n",
              "      <td>[10.0, 10.0, 14.0, 7.0]</td>\n",
              "      <td>[2.991917441111114, 97.00808255888889]</td>\n",
              "      <td>[0.029919174411111138, 0.9700808255888889]</td>\n",
              "      <td>1.0</td>\n",
              "    </tr>\n",
              "  </tbody>\n",
              "</table>\n",
              "<p>125 rows × 9 columns</p>\n",
              "</div>"
            ],
            "text/plain": [
              "      A   B  ...                                 probability  prediction\n",
              "0     1   1  ...   [0.02349140802177153, 0.9765085919782286]         1.0\n",
              "1     1   3  ...  [0.9783426096457282, 0.021657390354271742]         0.0\n",
              "2     1   3  ...   [0.9644343979761875, 0.03556560202381256]         0.0\n",
              "3     1   4  ...   [0.9776110680801413, 0.02238893191985869]         0.0\n",
              "4     1   4  ...    [0.973707336127964, 0.02629266387203602]         0.0\n",
              "..   ..  ..  ...                                         ...         ...\n",
              "120  10   9  ...  [0.9867553516846921, 0.013244648315307932]         0.0\n",
              "121  10   9  ...   [0.9868758166240265, 0.01312418337597346]         0.0\n",
              "122  10   9  ...  [0.025479036598880303, 0.9745209634011196]         1.0\n",
              "123  10  10  ...  [0.9780904397655918, 0.021909560234408255]         0.0\n",
              "124  10  10  ...  [0.029919174411111138, 0.9700808255888889]         1.0\n",
              "\n",
              "[125 rows x 9 columns]"
            ]
          },
          "metadata": {},
          "execution_count": 114
        }
      ]
    },
    {
      "cell_type": "markdown",
      "metadata": {
        "id": "sHnICu5iWnvD"
      },
      "source": [
        "Check the accuracy of our model"
      ]
    },
    {
      "cell_type": "code",
      "metadata": {
        "id": "pTMPXsdPWlIK"
      },
      "source": [
        "from pyspark.ml.evaluation import BinaryClassificationEvaluator"
      ],
      "execution_count": null,
      "outputs": []
    },
    {
      "cell_type": "code",
      "metadata": {
        "id": "EOapZD-0WqQy"
      },
      "source": [
        "evaluator = BinaryClassificationEvaluator(rawPredictionCol='prediction', labelCol='Spoiled')\n",
        "pip_predic = pip_predic.select(['Spoiled', 'prediction'])"
      ],
      "execution_count": null,
      "outputs": []
    },
    {
      "cell_type": "code",
      "metadata": {
        "colab": {
          "base_uri": "https://localhost:8080/"
        },
        "id": "JklcMy9zW0Gt",
        "outputId": "238636ac-b81a-42fe-a53b-a12dbebce4b4"
      },
      "source": [
        "evaluator.evaluate(pip_predic)"
      ],
      "execution_count": null,
      "outputs": [
        {
          "output_type": "execute_result",
          "data": {
            "text/plain": [
              "0.9944444444444445"
            ]
          },
          "metadata": {},
          "execution_count": 117
        }
      ]
    }
  ]
}