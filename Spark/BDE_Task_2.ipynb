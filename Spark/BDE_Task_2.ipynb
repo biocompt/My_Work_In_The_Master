{
  "nbformat": 4,
  "nbformat_minor": 0,
  "metadata": {
    "colab": {
      "name": "BDE2021 - Task 2.ipynb",
      "provenance": [],
      "collapsed_sections": []
    },
    "kernelspec": {
      "name": "python3",
      "display_name": "Python 3"
    },
    "language_info": {
      "name": "python"
    }
  },
  "cells": [
    {
      "cell_type": "code",
      "metadata": {
        "id": "KSp2f8pIHXa0"
      },
      "source": [
        "!apt-get install openjdk-8-jdk-headless -qq > /dev/null\n",
        "!wget -q https://mirrors.sonic.net/apache/spark/spark-3.1.2/spark-3.1.2-bin-hadoop3.2.tgz\n",
        "!tar xzf spark-3.1.2-bin-hadoop3.2.tgz\n",
        "!pip install -q findspark\n",
        "\n",
        "\n",
        "import os\n",
        "os.environ[\"JAVA_HOME\"] = \"/usr/lib/jvm/java-8-openjdk-amd64\"\n",
        "os.environ[\"SPARK_HOME\"] = \"/content/spark-3.1.2-bin-hadoop3.2\"\n",
        "\n",
        "\n",
        "import findspark\n",
        "findspark.init()\n",
        "from pyspark.sql import SparkSession\n",
        "spark = SparkSession.builder.master(\"local[*]\").getOrCreate()"
      ],
      "execution_count": null,
      "outputs": []
    },
    {
      "cell_type": "markdown",
      "source": [
        "Load the data"
      ],
      "metadata": {
        "id": "jRMUDw43-Vc6"
      }
    },
    {
      "cell_type": "code",
      "metadata": {
        "id": "3H1r_PVM1Snu"
      },
      "source": [
        "df = spark.read.options(header = 'True', inferSchema = 'True').csv(\"drive/MyDrive/Colab Notebooks/cruise_ship_info.csv\") # Con esto, guardamos nuestra base de datos"
      ],
      "execution_count": null,
      "outputs": []
    },
    {
      "cell_type": "markdown",
      "source": [
        "Check columns and its information"
      ],
      "metadata": {
        "id": "-NX9sYrE-X-I"
      }
    },
    {
      "cell_type": "code",
      "metadata": {
        "colab": {
          "base_uri": "https://localhost:8080/"
        },
        "id": "j2_BJ1rH3JdO",
        "outputId": "2a003b9c-d67a-4ae1-c6a0-28ba582c7f17"
      },
      "source": [
        "df.printSchema() # We will use cruise line column, so we need to change the type of the column (string is not a valid option to use as feature)"
      ],
      "execution_count": null,
      "outputs": [
        {
          "output_type": "stream",
          "name": "stdout",
          "text": [
            "root\n",
            " |-- Ship_name: string (nullable = true)\n",
            " |-- Cruise_line: string (nullable = true)\n",
            " |-- Age: integer (nullable = true)\n",
            " |-- Tonnage: double (nullable = true)\n",
            " |-- passengers: double (nullable = true)\n",
            " |-- length: double (nullable = true)\n",
            " |-- cabins: double (nullable = true)\n",
            " |-- passenger_density: double (nullable = true)\n",
            " |-- crew: double (nullable = true)\n",
            "\n"
          ]
        }
      ]
    },
    {
      "cell_type": "markdown",
      "metadata": {
        "id": "_OyXiHTh3mvl"
      },
      "source": [
        "To do that, I will use StringIndexer, that assings to each cruise line an index."
      ]
    },
    {
      "cell_type": "code",
      "metadata": {
        "id": "qdSff-7X3mQd"
      },
      "source": [
        "from pyspark.ml.feature import StringIndexer"
      ],
      "execution_count": null,
      "outputs": []
    },
    {
      "cell_type": "code",
      "metadata": {
        "id": "Sw0a3p5E340c"
      },
      "source": [
        "indexer = StringIndexer(inputCol=\"Cruise_line\", outputCol=\"Cruise_Index\")\n",
        "df = indexer.fit(df).transform(df)"
      ],
      "execution_count": null,
      "outputs": []
    },
    {
      "cell_type": "code",
      "metadata": {
        "colab": {
          "base_uri": "https://localhost:8080/"
        },
        "id": "0lD0WK4b4TFv",
        "outputId": "7e50e371-08e1-4ec7-ccaf-52e7b061b5df"
      },
      "source": [
        "df.printSchema() # We can see that there is a new column (Cruise_Index), with a numeric value"
      ],
      "execution_count": null,
      "outputs": [
        {
          "output_type": "stream",
          "name": "stdout",
          "text": [
            "root\n",
            " |-- Ship_name: string (nullable = true)\n",
            " |-- Cruise_line: string (nullable = true)\n",
            " |-- Age: integer (nullable = true)\n",
            " |-- Tonnage: double (nullable = true)\n",
            " |-- passengers: double (nullable = true)\n",
            " |-- length: double (nullable = true)\n",
            " |-- cabins: double (nullable = true)\n",
            " |-- passenger_density: double (nullable = true)\n",
            " |-- crew: double (nullable = true)\n",
            " |-- Cruise_Index: double (nullable = false)\n",
            "\n"
          ]
        }
      ]
    },
    {
      "cell_type": "code",
      "metadata": {
        "colab": {
          "base_uri": "https://localhost:8080/",
          "height": 224
        },
        "id": "Tbz4pJk94b_1",
        "outputId": "6094e93e-bf38-4dae-dfce-87e3d5dec6c3"
      },
      "source": [
        "df.describe().toPandas()"
      ],
      "execution_count": null,
      "outputs": [
        {
          "output_type": "execute_result",
          "data": {
            "text/html": [
              "<div>\n",
              "<style scoped>\n",
              "    .dataframe tbody tr th:only-of-type {\n",
              "        vertical-align: middle;\n",
              "    }\n",
              "\n",
              "    .dataframe tbody tr th {\n",
              "        vertical-align: top;\n",
              "    }\n",
              "\n",
              "    .dataframe thead th {\n",
              "        text-align: right;\n",
              "    }\n",
              "</style>\n",
              "<table border=\"1\" class=\"dataframe\">\n",
              "  <thead>\n",
              "    <tr style=\"text-align: right;\">\n",
              "      <th></th>\n",
              "      <th>summary</th>\n",
              "      <th>Ship_name</th>\n",
              "      <th>Cruise_line</th>\n",
              "      <th>Age</th>\n",
              "      <th>Tonnage</th>\n",
              "      <th>passengers</th>\n",
              "      <th>length</th>\n",
              "      <th>cabins</th>\n",
              "      <th>passenger_density</th>\n",
              "      <th>crew</th>\n",
              "      <th>Cruise_Index</th>\n",
              "    </tr>\n",
              "  </thead>\n",
              "  <tbody>\n",
              "    <tr>\n",
              "      <th>0</th>\n",
              "      <td>count</td>\n",
              "      <td>158</td>\n",
              "      <td>158</td>\n",
              "      <td>158</td>\n",
              "      <td>158</td>\n",
              "      <td>158</td>\n",
              "      <td>158</td>\n",
              "      <td>158</td>\n",
              "      <td>158</td>\n",
              "      <td>158</td>\n",
              "      <td>158</td>\n",
              "    </tr>\n",
              "    <tr>\n",
              "      <th>1</th>\n",
              "      <td>mean</td>\n",
              "      <td>Infinity</td>\n",
              "      <td>None</td>\n",
              "      <td>15.689873417721518</td>\n",
              "      <td>71.28467088607599</td>\n",
              "      <td>18.45740506329114</td>\n",
              "      <td>8.130632911392404</td>\n",
              "      <td>8.830000000000005</td>\n",
              "      <td>39.90094936708861</td>\n",
              "      <td>7.794177215189873</td>\n",
              "      <td>5.063291139240507</td>\n",
              "    </tr>\n",
              "    <tr>\n",
              "      <th>2</th>\n",
              "      <td>stddev</td>\n",
              "      <td>None</td>\n",
              "      <td>None</td>\n",
              "      <td>7.615691058751413</td>\n",
              "      <td>37.229540025907866</td>\n",
              "      <td>9.677094775143416</td>\n",
              "      <td>1.793473548054825</td>\n",
              "      <td>4.4714172221480615</td>\n",
              "      <td>8.63921711391542</td>\n",
              "      <td>3.503486564627034</td>\n",
              "      <td>4.758744608182735</td>\n",
              "    </tr>\n",
              "    <tr>\n",
              "      <th>3</th>\n",
              "      <td>min</td>\n",
              "      <td>Adventure</td>\n",
              "      <td>Azamara</td>\n",
              "      <td>4</td>\n",
              "      <td>2.329</td>\n",
              "      <td>0.66</td>\n",
              "      <td>2.79</td>\n",
              "      <td>0.33</td>\n",
              "      <td>17.7</td>\n",
              "      <td>0.59</td>\n",
              "      <td>0.0</td>\n",
              "    </tr>\n",
              "    <tr>\n",
              "      <th>4</th>\n",
              "      <td>max</td>\n",
              "      <td>Zuiderdam</td>\n",
              "      <td>Windstar</td>\n",
              "      <td>48</td>\n",
              "      <td>220.0</td>\n",
              "      <td>54.0</td>\n",
              "      <td>11.82</td>\n",
              "      <td>27.0</td>\n",
              "      <td>71.43</td>\n",
              "      <td>21.0</td>\n",
              "      <td>19.0</td>\n",
              "    </tr>\n",
              "  </tbody>\n",
              "</table>\n",
              "</div>"
            ],
            "text/plain": [
              "  summary  Ship_name  ...               crew       Cruise_Index\n",
              "0   count        158  ...                158                158\n",
              "1    mean   Infinity  ...  7.794177215189873  5.063291139240507\n",
              "2  stddev       None  ...  3.503486564627034  4.758744608182735\n",
              "3     min  Adventure  ...               0.59                0.0\n",
              "4     max  Zuiderdam  ...               21.0               19.0\n",
              "\n",
              "[5 rows x 11 columns]"
            ]
          },
          "metadata": {},
          "execution_count": 7
        }
      ]
    },
    {
      "cell_type": "code",
      "metadata": {
        "colab": {
          "base_uri": "https://localhost:8080/"
        },
        "id": "hiEMKMPI5ShG",
        "outputId": "e2d66492-55a0-4717-f544-96cd2f1e55f4"
      },
      "source": [
        "df.columns # Check all column names"
      ],
      "execution_count": null,
      "outputs": [
        {
          "output_type": "execute_result",
          "data": {
            "text/plain": [
              "['Ship_name',\n",
              " 'Cruise_line',\n",
              " 'Age',\n",
              " 'Tonnage',\n",
              " 'passengers',\n",
              " 'length',\n",
              " 'cabins',\n",
              " 'passenger_density',\n",
              " 'crew',\n",
              " 'Cruise_Index']"
            ]
          },
          "metadata": {},
          "execution_count": 8
        }
      ]
    },
    {
      "cell_type": "markdown",
      "metadata": {
        "id": "_joR9_dX5YFN"
      },
      "source": [
        "To make the predictions, I will use as features the columns Age, Tonnage, Passengers, Length, Cabins, Passenger_density and Cruise_index."
      ]
    },
    {
      "cell_type": "code",
      "metadata": {
        "id": "0ckYQKj25mh0"
      },
      "source": [
        "from pyspark.ml.feature import VectorAssembler"
      ],
      "execution_count": null,
      "outputs": []
    },
    {
      "cell_type": "code",
      "metadata": {
        "id": "pakq1W9P5qz-"
      },
      "source": [
        "# With assembler we can join all columns in one.\n",
        "assembler = VectorAssembler(inputCols=['Age', 'Tonnage', 'passengers', 'length', 'cabins', \n",
        "                                       'passenger_density', 'Cruise_Index'], outputCol='features', \n",
        "                            handleInvalid='skip')\n",
        "output = assembler.transform(df)"
      ],
      "execution_count": null,
      "outputs": []
    },
    {
      "cell_type": "code",
      "metadata": {
        "colab": {
          "base_uri": "https://localhost:8080/"
        },
        "id": "HAfp_YbjFTTP",
        "outputId": "dcedb8cb-3f33-4dcc-f6df-41fef99ca1b7"
      },
      "source": [
        "output.show(10) # Comprobamos que la última columna es la nueva con los datos que nos interesan"
      ],
      "execution_count": null,
      "outputs": [
        {
          "output_type": "stream",
          "name": "stdout",
          "text": [
            "+-----------+-----------+---+------------------+----------+------+------+-----------------+----+------------+--------------------+\n",
            "|  Ship_name|Cruise_line|Age|           Tonnage|passengers|length|cabins|passenger_density|crew|Cruise_Index|            features|\n",
            "+-----------+-----------+---+------------------+----------+------+------+-----------------+----+------------+--------------------+\n",
            "|    Journey|    Azamara|  6|30.276999999999997|      6.94|  5.94|  3.55|            42.64|3.55|        16.0|[6.0,30.276999999...|\n",
            "|      Quest|    Azamara|  6|30.276999999999997|      6.94|  5.94|  3.55|            42.64|3.55|        16.0|[6.0,30.276999999...|\n",
            "|Celebration|   Carnival| 26|            47.262|     14.86|  7.22|  7.43|             31.8| 6.7|         1.0|[26.0,47.262,14.8...|\n",
            "|   Conquest|   Carnival| 11|             110.0|     29.74|  9.53| 14.88|            36.99|19.1|         1.0|[11.0,110.0,29.74...|\n",
            "|    Destiny|   Carnival| 17|           101.353|     26.42|  8.92| 13.21|            38.36|10.0|         1.0|[17.0,101.353,26....|\n",
            "|    Ecstasy|   Carnival| 22|            70.367|     20.52|  8.55|  10.2|            34.29| 9.2|         1.0|[22.0,70.367,20.5...|\n",
            "|    Elation|   Carnival| 15|            70.367|     20.52|  8.55|  10.2|            34.29| 9.2|         1.0|[15.0,70.367,20.5...|\n",
            "|    Fantasy|   Carnival| 23|            70.367|     20.56|  8.55| 10.22|            34.23| 9.2|         1.0|[23.0,70.367,20.5...|\n",
            "|Fascination|   Carnival| 19|            70.367|     20.52|  8.55|  10.2|            34.29| 9.2|         1.0|[19.0,70.367,20.5...|\n",
            "|    Freedom|   Carnival|  6|110.23899999999999|      37.0|  9.51| 14.87|            29.79|11.5|         1.0|[6.0,110.23899999...|\n",
            "+-----------+-----------+---+------------------+----------+------+------+-----------------+----+------------+--------------------+\n",
            "only showing top 10 rows\n",
            "\n"
          ]
        }
      ]
    },
    {
      "cell_type": "code",
      "metadata": {
        "colab": {
          "base_uri": "https://localhost:8080/",
          "height": 669
        },
        "id": "w554HBEBNIyS",
        "outputId": "98caefe2-e4f5-4cdb-bf99-4246e4b3dcf6"
      },
      "source": [
        "df.groupBy('Cruise_line').count().toPandas()  # How many ships of each cruise line"
      ],
      "execution_count": null,
      "outputs": [
        {
          "output_type": "execute_result",
          "data": {
            "text/html": [
              "<div>\n",
              "<style scoped>\n",
              "    .dataframe tbody tr th:only-of-type {\n",
              "        vertical-align: middle;\n",
              "    }\n",
              "\n",
              "    .dataframe tbody tr th {\n",
              "        vertical-align: top;\n",
              "    }\n",
              "\n",
              "    .dataframe thead th {\n",
              "        text-align: right;\n",
              "    }\n",
              "</style>\n",
              "<table border=\"1\" class=\"dataframe\">\n",
              "  <thead>\n",
              "    <tr style=\"text-align: right;\">\n",
              "      <th></th>\n",
              "      <th>Cruise_line</th>\n",
              "      <th>count</th>\n",
              "    </tr>\n",
              "  </thead>\n",
              "  <tbody>\n",
              "    <tr>\n",
              "      <th>0</th>\n",
              "      <td>Costa</td>\n",
              "      <td>11</td>\n",
              "    </tr>\n",
              "    <tr>\n",
              "      <th>1</th>\n",
              "      <td>P&amp;O</td>\n",
              "      <td>6</td>\n",
              "    </tr>\n",
              "    <tr>\n",
              "      <th>2</th>\n",
              "      <td>Cunard</td>\n",
              "      <td>3</td>\n",
              "    </tr>\n",
              "    <tr>\n",
              "      <th>3</th>\n",
              "      <td>Regent_Seven_Seas</td>\n",
              "      <td>5</td>\n",
              "    </tr>\n",
              "    <tr>\n",
              "      <th>4</th>\n",
              "      <td>MSC</td>\n",
              "      <td>8</td>\n",
              "    </tr>\n",
              "    <tr>\n",
              "      <th>5</th>\n",
              "      <td>Carnival</td>\n",
              "      <td>22</td>\n",
              "    </tr>\n",
              "    <tr>\n",
              "      <th>6</th>\n",
              "      <td>Crystal</td>\n",
              "      <td>2</td>\n",
              "    </tr>\n",
              "    <tr>\n",
              "      <th>7</th>\n",
              "      <td>Orient</td>\n",
              "      <td>1</td>\n",
              "    </tr>\n",
              "    <tr>\n",
              "      <th>8</th>\n",
              "      <td>Princess</td>\n",
              "      <td>17</td>\n",
              "    </tr>\n",
              "    <tr>\n",
              "      <th>9</th>\n",
              "      <td>Silversea</td>\n",
              "      <td>4</td>\n",
              "    </tr>\n",
              "    <tr>\n",
              "      <th>10</th>\n",
              "      <td>Seabourn</td>\n",
              "      <td>3</td>\n",
              "    </tr>\n",
              "    <tr>\n",
              "      <th>11</th>\n",
              "      <td>Holland_American</td>\n",
              "      <td>14</td>\n",
              "    </tr>\n",
              "    <tr>\n",
              "      <th>12</th>\n",
              "      <td>Windstar</td>\n",
              "      <td>3</td>\n",
              "    </tr>\n",
              "    <tr>\n",
              "      <th>13</th>\n",
              "      <td>Disney</td>\n",
              "      <td>2</td>\n",
              "    </tr>\n",
              "    <tr>\n",
              "      <th>14</th>\n",
              "      <td>Norwegian</td>\n",
              "      <td>13</td>\n",
              "    </tr>\n",
              "    <tr>\n",
              "      <th>15</th>\n",
              "      <td>Oceania</td>\n",
              "      <td>3</td>\n",
              "    </tr>\n",
              "    <tr>\n",
              "      <th>16</th>\n",
              "      <td>Azamara</td>\n",
              "      <td>2</td>\n",
              "    </tr>\n",
              "    <tr>\n",
              "      <th>17</th>\n",
              "      <td>Celebrity</td>\n",
              "      <td>10</td>\n",
              "    </tr>\n",
              "    <tr>\n",
              "      <th>18</th>\n",
              "      <td>Star</td>\n",
              "      <td>6</td>\n",
              "    </tr>\n",
              "    <tr>\n",
              "      <th>19</th>\n",
              "      <td>Royal_Caribbean</td>\n",
              "      <td>23</td>\n",
              "    </tr>\n",
              "  </tbody>\n",
              "</table>\n",
              "</div>"
            ],
            "text/plain": [
              "          Cruise_line  count\n",
              "0               Costa     11\n",
              "1                 P&O      6\n",
              "2              Cunard      3\n",
              "3   Regent_Seven_Seas      5\n",
              "4                 MSC      8\n",
              "5            Carnival     22\n",
              "6             Crystal      2\n",
              "7              Orient      1\n",
              "8            Princess     17\n",
              "9           Silversea      4\n",
              "10           Seabourn      3\n",
              "11   Holland_American     14\n",
              "12           Windstar      3\n",
              "13             Disney      2\n",
              "14          Norwegian     13\n",
              "15            Oceania      3\n",
              "16            Azamara      2\n",
              "17          Celebrity     10\n",
              "18               Star      6\n",
              "19    Royal_Caribbean     23"
            ]
          },
          "metadata": {},
          "execution_count": 31
        }
      ]
    },
    {
      "cell_type": "code",
      "metadata": {
        "colab": {
          "base_uri": "https://localhost:8080/",
          "height": 419
        },
        "id": "WCcaCvNsFmAP",
        "outputId": "f5e43e30-0b0e-41ad-9bad-0b3cf761e565"
      },
      "source": [
        "final_data = output.select(['features', 'crew']) # Simplify our dataset by selecting only columns of desire to apply our model\n",
        "final_data.toPandas() # Features columns, that has all the info needed to predict the crew needed."
      ],
      "execution_count": null,
      "outputs": [
        {
          "output_type": "execute_result",
          "data": {
            "text/html": [
              "<div>\n",
              "<style scoped>\n",
              "    .dataframe tbody tr th:only-of-type {\n",
              "        vertical-align: middle;\n",
              "    }\n",
              "\n",
              "    .dataframe tbody tr th {\n",
              "        vertical-align: top;\n",
              "    }\n",
              "\n",
              "    .dataframe thead th {\n",
              "        text-align: right;\n",
              "    }\n",
              "</style>\n",
              "<table border=\"1\" class=\"dataframe\">\n",
              "  <thead>\n",
              "    <tr style=\"text-align: right;\">\n",
              "      <th></th>\n",
              "      <th>features</th>\n",
              "      <th>crew</th>\n",
              "    </tr>\n",
              "  </thead>\n",
              "  <tbody>\n",
              "    <tr>\n",
              "      <th>0</th>\n",
              "      <td>[6.0, 30.276999999999997, 6.94, 5.94, 3.55, 42...</td>\n",
              "      <td>3.55</td>\n",
              "    </tr>\n",
              "    <tr>\n",
              "      <th>1</th>\n",
              "      <td>[6.0, 30.276999999999997, 6.94, 5.94, 3.55, 42...</td>\n",
              "      <td>3.55</td>\n",
              "    </tr>\n",
              "    <tr>\n",
              "      <th>2</th>\n",
              "      <td>[26.0, 47.262, 14.86, 7.22, 7.43, 31.8, 1.0]</td>\n",
              "      <td>6.70</td>\n",
              "    </tr>\n",
              "    <tr>\n",
              "      <th>3</th>\n",
              "      <td>[11.0, 110.0, 29.74, 9.53, 14.88, 36.99, 1.0]</td>\n",
              "      <td>19.10</td>\n",
              "    </tr>\n",
              "    <tr>\n",
              "      <th>4</th>\n",
              "      <td>[17.0, 101.353, 26.42, 8.92, 13.21, 38.36, 1.0]</td>\n",
              "      <td>10.00</td>\n",
              "    </tr>\n",
              "    <tr>\n",
              "      <th>...</th>\n",
              "      <td>...</td>\n",
              "      <td>...</td>\n",
              "    </tr>\n",
              "    <tr>\n",
              "      <th>153</th>\n",
              "      <td>[22.0, 3.341, 0.66, 2.79, 0.33, 50.62, 9.0]</td>\n",
              "      <td>0.59</td>\n",
              "    </tr>\n",
              "    <tr>\n",
              "      <th>154</th>\n",
              "      <td>[14.0, 76.8, 19.6, 8.79, 9.67, 39.18, 9.0]</td>\n",
              "      <td>12.00</td>\n",
              "    </tr>\n",
              "    <tr>\n",
              "      <th>155</th>\n",
              "      <td>[25.0, 5.35, 1.58, 4.4, 0.74, 33.86, 15.0]</td>\n",
              "      <td>0.88</td>\n",
              "    </tr>\n",
              "    <tr>\n",
              "      <th>156</th>\n",
              "      <td>[27.0, 5.35, 1.67, 4.4, 0.74, 32.04, 15.0]</td>\n",
              "      <td>0.88</td>\n",
              "    </tr>\n",
              "    <tr>\n",
              "      <th>157</th>\n",
              "      <td>[23.0, 14.745, 3.08, 6.17, 1.56, 47.87, 15.0]</td>\n",
              "      <td>1.80</td>\n",
              "    </tr>\n",
              "  </tbody>\n",
              "</table>\n",
              "<p>158 rows × 2 columns</p>\n",
              "</div>"
            ],
            "text/plain": [
              "                                              features   crew\n",
              "0    [6.0, 30.276999999999997, 6.94, 5.94, 3.55, 42...   3.55\n",
              "1    [6.0, 30.276999999999997, 6.94, 5.94, 3.55, 42...   3.55\n",
              "2         [26.0, 47.262, 14.86, 7.22, 7.43, 31.8, 1.0]   6.70\n",
              "3        [11.0, 110.0, 29.74, 9.53, 14.88, 36.99, 1.0]  19.10\n",
              "4      [17.0, 101.353, 26.42, 8.92, 13.21, 38.36, 1.0]  10.00\n",
              "..                                                 ...    ...\n",
              "153        [22.0, 3.341, 0.66, 2.79, 0.33, 50.62, 9.0]   0.59\n",
              "154         [14.0, 76.8, 19.6, 8.79, 9.67, 39.18, 9.0]  12.00\n",
              "155         [25.0, 5.35, 1.58, 4.4, 0.74, 33.86, 15.0]   0.88\n",
              "156         [27.0, 5.35, 1.67, 4.4, 0.74, 32.04, 15.0]   0.88\n",
              "157      [23.0, 14.745, 3.08, 6.17, 1.56, 47.87, 15.0]   1.80\n",
              "\n",
              "[158 rows x 2 columns]"
            ]
          },
          "metadata": {},
          "execution_count": 32
        }
      ]
    },
    {
      "cell_type": "markdown",
      "metadata": {
        "id": "ti1Tchm9GJ8O"
      },
      "source": [
        "In every machine learning approach, we need to divide our dataset into training and test set."
      ]
    },
    {
      "cell_type": "code",
      "metadata": {
        "id": "DPJozAa-GHBA"
      },
      "source": [
        "train_data, test_data = final_data.randomSplit([0.75, 0.25,], 43)"
      ],
      "execution_count": null,
      "outputs": []
    },
    {
      "cell_type": "markdown",
      "metadata": {
        "id": "PlW6D23kGrL2"
      },
      "source": [
        "Check the distribution of our data: 75% for train set, 25% for test set."
      ]
    },
    {
      "cell_type": "code",
      "metadata": {
        "colab": {
          "base_uri": "https://localhost:8080/"
        },
        "id": "P-zAFOEZGddP",
        "outputId": "1745967a-5baf-46ab-875b-c40afcb6031d"
      },
      "source": [
        "final_data.describe().show()"
      ],
      "execution_count": null,
      "outputs": [
        {
          "output_type": "stream",
          "name": "stdout",
          "text": [
            "+-------+-----------------+\n",
            "|summary|             crew|\n",
            "+-------+-----------------+\n",
            "|  count|              158|\n",
            "|   mean|7.794177215189873|\n",
            "| stddev|3.503486564627034|\n",
            "|    min|             0.59|\n",
            "|    max|             21.0|\n",
            "+-------+-----------------+\n",
            "\n"
          ]
        }
      ]
    },
    {
      "cell_type": "code",
      "metadata": {
        "colab": {
          "base_uri": "https://localhost:8080/"
        },
        "id": "E8mcsKVgGoU-",
        "outputId": "bca942ec-4754-4402-95c3-a04d663def24"
      },
      "source": [
        "train_data.describe().show()"
      ],
      "execution_count": null,
      "outputs": [
        {
          "output_type": "stream",
          "name": "stdout",
          "text": [
            "+-------+------------------+\n",
            "|summary|              crew|\n",
            "+-------+------------------+\n",
            "|  count|               119|\n",
            "|   mean| 7.809747899159674|\n",
            "| stddev|3.3790961237988872|\n",
            "|    min|               0.6|\n",
            "|    max|              19.1|\n",
            "+-------+------------------+\n",
            "\n"
          ]
        }
      ]
    },
    {
      "cell_type": "code",
      "metadata": {
        "colab": {
          "base_uri": "https://localhost:8080/"
        },
        "id": "TsNhew34G2S5",
        "outputId": "a492a011-e206-4c84-e6b1-be86dc3b394c"
      },
      "source": [
        "test_data.describe().show()"
      ],
      "execution_count": null,
      "outputs": [
        {
          "output_type": "stream",
          "name": "stdout",
          "text": [
            "+-------+------------------+\n",
            "|summary|              crew|\n",
            "+-------+------------------+\n",
            "|  count|                39|\n",
            "|   mean| 7.746666666666667|\n",
            "| stddev|3.9054902875266393|\n",
            "|    min|              0.59|\n",
            "|    max|              21.0|\n",
            "+-------+------------------+\n",
            "\n"
          ]
        }
      ]
    },
    {
      "cell_type": "markdown",
      "metadata": {
        "id": "f7x5fLaXHEPv"
      },
      "source": [
        "Let's create our Linear Regression model:"
      ]
    },
    {
      "cell_type": "code",
      "metadata": {
        "id": "fXKPZ40dHBKg"
      },
      "source": [
        "from pyspark.ml.regression import LinearRegression"
      ],
      "execution_count": null,
      "outputs": []
    },
    {
      "cell_type": "code",
      "metadata": {
        "id": "kYjajy1ryN2n"
      },
      "source": [
        "lr = LinearRegression(labelCol='crew') # Because of we name the features column as \"features\", we just need to say what column do we want to predict"
      ],
      "execution_count": null,
      "outputs": []
    },
    {
      "cell_type": "code",
      "metadata": {
        "id": "e1Ie6QqnHM3w"
      },
      "source": [
        "lr_model = lr.fit(train_data)"
      ],
      "execution_count": null,
      "outputs": []
    },
    {
      "cell_type": "code",
      "metadata": {
        "colab": {
          "base_uri": "https://localhost:8080/"
        },
        "id": "R4jvObTyId6v",
        "outputId": "8d28d189-c0ea-49ff-a9aa-e28279dae771"
      },
      "source": [
        "test_results = lr_model.evaluate(test_data)\n",
        "test_results.residuals.show() # Difference between observed and predicted"
      ],
      "execution_count": null,
      "outputs": [
        {
          "output_type": "stream",
          "name": "stdout",
          "text": [
            "+--------------------+\n",
            "|           residuals|\n",
            "+--------------------+\n",
            "|0.038051460486979494|\n",
            "| -1.5369843545120911|\n",
            "| -1.0324781643054175|\n",
            "| -1.0324781643054175|\n",
            "| -1.4192667734414997|\n",
            "|  0.7875724902029901|\n",
            "| 0.34574838288981624|\n",
            "| -0.6882628279703322|\n",
            "|  0.9873848553712588|\n",
            "| -0.3219109578666446|\n",
            "| -0.5934259698637785|\n",
            "|-0.24583239210983088|\n",
            "| -0.5621196693065063|\n",
            "|  0.8677299690271632|\n",
            "|-0.22487241054968266|\n",
            "|-0.06040528816903645|\n",
            "| -0.5470282170814862|\n",
            "| -1.1381609054175232|\n",
            "|-0.18129588879307157|\n",
            "|  0.7198523547263793|\n",
            "+--------------------+\n",
            "only showing top 20 rows\n",
            "\n"
          ]
        }
      ]
    },
    {
      "cell_type": "code",
      "metadata": {
        "colab": {
          "base_uri": "https://localhost:8080/"
        },
        "id": "XafNY_3pKBCA",
        "outputId": "dba8c06c-905d-4556-c06e-4fc844a2d6b9"
      },
      "source": [
        "test_results.rootMeanSquaredError "
      ],
      "execution_count": null,
      "outputs": [
        {
          "output_type": "execute_result",
          "data": {
            "text/plain": [
              "0.6822837126517787"
            ]
          },
          "metadata": {},
          "execution_count": 41
        }
      ]
    },
    {
      "cell_type": "code",
      "metadata": {
        "colab": {
          "base_uri": "https://localhost:8080/"
        },
        "id": "e7DE30ooKQWX",
        "outputId": "a1542873-286d-4309-b0a0-7db9a915fd85"
      },
      "source": [
        "test_results.r2 # Como vemos, el valor es muy alto (95%) lo que nos indica que nuestro modelo se ajusta bien a los datos aportados."
      ],
      "execution_count": null,
      "outputs": [
        {
          "output_type": "execute_result",
          "data": {
            "text/plain": [
              "0.968677249278543"
            ]
          },
          "metadata": {},
          "execution_count": 42
        }
      ]
    },
    {
      "cell_type": "markdown",
      "metadata": {
        "id": "xNmVoUlIJPon"
      },
      "source": [
        "Let's predict:"
      ]
    },
    {
      "cell_type": "code",
      "metadata": {
        "colab": {
          "base_uri": "https://localhost:8080/"
        },
        "id": "eubEcImIJRiI",
        "outputId": "ef0da59f-a835-4811-f41a-89a0abe6997c"
      },
      "source": [
        "lr_model.transform(test_data).show()"
      ],
      "execution_count": null,
      "outputs": [
        {
          "output_type": "stream",
          "name": "stdout",
          "text": [
            "+--------------------+-----+------------------+\n",
            "|            features| crew|        prediction|\n",
            "+--------------------+-----+------------------+\n",
            "|[4.0,220.0,54.0,1...| 21.0| 20.96194853951302|\n",
            "|[5.0,160.0,36.34,...| 13.6| 15.13698435451209|\n",
            "|[6.0,30.276999999...| 3.55| 4.582478164305417|\n",
            "|[6.0,30.276999999...| 3.55| 4.582478164305417|\n",
            "|[7.0,89.6,25.5,9....| 9.87|11.289266773441499|\n",
            "|[8.0,91.0,22.44,9...| 11.0| 10.21242750979701|\n",
            "|[9.0,81.0,21.44,9...| 10.0| 9.654251617110184|\n",
            "|[9.0,105.0,27.2,8...|10.68|11.368262827970332|\n",
            "|[9.0,113.0,26.74,...|12.38|11.392615144628742|\n",
            "|[10.0,68.0,10.8,7...| 6.36| 6.681910957866645|\n",
            "|[10.0,86.0,21.14,...|  9.2| 9.793425969863778|\n",
            "|[10.0,91.62700000...|  9.0|  9.24583239210983|\n",
            "|[10.0,110.0,29.74...| 11.6|12.162119669306506|\n",
            "|[11.0,90.0,22.4,9...| 11.0|10.132270030972837|\n",
            "|[11.0,91.62700000...|  9.0| 9.224872410549683|\n",
            "|[12.0,50.0,7.0,7....| 4.45| 4.510405288169037|\n",
            "|[12.0,58.6,15.66,...|  7.0| 7.547028217081486|\n",
            "|[12.0,88.5,21.24,...|  9.3|10.438160905417524|\n",
            "|[12.0,90.09,25.01...| 8.68| 8.861295888793071|\n",
            "|[12.0,91.0,20.32,...| 9.99| 9.270147645273621|\n",
            "+--------------------+-----+------------------+\n",
            "only showing top 20 rows\n",
            "\n"
          ]
        }
      ]
    },
    {
      "cell_type": "markdown",
      "metadata": {
        "id": "PFVTJAAUJifu"
      },
      "source": [
        "We can also predict in this case withouth the crew column"
      ]
    },
    {
      "cell_type": "code",
      "metadata": {
        "id": "dFpgclIxyjOB"
      },
      "source": [
        "unlabeled_data = test_data.select('features')"
      ],
      "execution_count": null,
      "outputs": []
    },
    {
      "cell_type": "code",
      "metadata": {
        "id": "X0CAHA5KyoA5",
        "colab": {
          "base_uri": "https://localhost:8080/"
        },
        "outputId": "1c1a9d00-bcc4-4763-91d5-770bd2391a35"
      },
      "source": [
        "predictions = lr_model.transform(unlabeled_data)\n",
        "predictions.show() # Same results"
      ],
      "execution_count": null,
      "outputs": [
        {
          "output_type": "stream",
          "name": "stdout",
          "text": [
            "+--------------------+------------------+\n",
            "|            features|        prediction|\n",
            "+--------------------+------------------+\n",
            "|[4.0,220.0,54.0,1...| 20.96194853951302|\n",
            "|[5.0,160.0,36.34,...| 15.13698435451209|\n",
            "|[6.0,30.276999999...| 4.582478164305417|\n",
            "|[6.0,30.276999999...| 4.582478164305417|\n",
            "|[7.0,89.6,25.5,9....|11.289266773441499|\n",
            "|[8.0,91.0,22.44,9...| 10.21242750979701|\n",
            "|[9.0,81.0,21.44,9...| 9.654251617110184|\n",
            "|[9.0,105.0,27.2,8...|11.368262827970332|\n",
            "|[9.0,113.0,26.74,...|11.392615144628742|\n",
            "|[10.0,68.0,10.8,7...| 6.681910957866645|\n",
            "|[10.0,86.0,21.14,...| 9.793425969863778|\n",
            "|[10.0,91.62700000...|  9.24583239210983|\n",
            "|[10.0,110.0,29.74...|12.162119669306506|\n",
            "|[11.0,90.0,22.4,9...|10.132270030972837|\n",
            "|[11.0,91.62700000...| 9.224872410549683|\n",
            "|[12.0,50.0,7.0,7....| 4.510405288169037|\n",
            "|[12.0,58.6,15.66,...| 7.547028217081486|\n",
            "|[12.0,88.5,21.24,...|10.438160905417524|\n",
            "|[12.0,90.09,25.01...| 8.861295888793071|\n",
            "|[12.0,91.0,20.32,...| 9.270147645273621|\n",
            "+--------------------+------------------+\n",
            "only showing top 20 rows\n",
            "\n"
          ]
        }
      ]
    },
    {
      "cell_type": "code",
      "metadata": {
        "colab": {
          "base_uri": "https://localhost:8080/",
          "height": 1000
        },
        "id": "rQz3L3uFK0to",
        "outputId": "4c52e4ae-0072-4c84-ef8f-df8185adb4f8"
      },
      "source": [
        "predictions.select('prediction').toPandas()\n",
        "."
      ],
      "execution_count": null,
      "outputs": [
        {
          "output_type": "execute_result",
          "data": {
            "text/html": [
              "<div>\n",
              "<style scoped>\n",
              "    .dataframe tbody tr th:only-of-type {\n",
              "        vertical-align: middle;\n",
              "    }\n",
              "\n",
              "    .dataframe tbody tr th {\n",
              "        vertical-align: top;\n",
              "    }\n",
              "\n",
              "    .dataframe thead th {\n",
              "        text-align: right;\n",
              "    }\n",
              "</style>\n",
              "<table border=\"1\" class=\"dataframe\">\n",
              "  <thead>\n",
              "    <tr style=\"text-align: right;\">\n",
              "      <th></th>\n",
              "      <th>prediction</th>\n",
              "    </tr>\n",
              "  </thead>\n",
              "  <tbody>\n",
              "    <tr>\n",
              "      <th>0</th>\n",
              "      <td>20.961949</td>\n",
              "    </tr>\n",
              "    <tr>\n",
              "      <th>1</th>\n",
              "      <td>15.136984</td>\n",
              "    </tr>\n",
              "    <tr>\n",
              "      <th>2</th>\n",
              "      <td>4.582478</td>\n",
              "    </tr>\n",
              "    <tr>\n",
              "      <th>3</th>\n",
              "      <td>4.582478</td>\n",
              "    </tr>\n",
              "    <tr>\n",
              "      <th>4</th>\n",
              "      <td>11.289267</td>\n",
              "    </tr>\n",
              "    <tr>\n",
              "      <th>5</th>\n",
              "      <td>10.212428</td>\n",
              "    </tr>\n",
              "    <tr>\n",
              "      <th>6</th>\n",
              "      <td>9.654252</td>\n",
              "    </tr>\n",
              "    <tr>\n",
              "      <th>7</th>\n",
              "      <td>11.368263</td>\n",
              "    </tr>\n",
              "    <tr>\n",
              "      <th>8</th>\n",
              "      <td>11.392615</td>\n",
              "    </tr>\n",
              "    <tr>\n",
              "      <th>9</th>\n",
              "      <td>6.681911</td>\n",
              "    </tr>\n",
              "    <tr>\n",
              "      <th>10</th>\n",
              "      <td>9.793426</td>\n",
              "    </tr>\n",
              "    <tr>\n",
              "      <th>11</th>\n",
              "      <td>9.245832</td>\n",
              "    </tr>\n",
              "    <tr>\n",
              "      <th>12</th>\n",
              "      <td>12.162120</td>\n",
              "    </tr>\n",
              "    <tr>\n",
              "      <th>13</th>\n",
              "      <td>10.132270</td>\n",
              "    </tr>\n",
              "    <tr>\n",
              "      <th>14</th>\n",
              "      <td>9.224872</td>\n",
              "    </tr>\n",
              "    <tr>\n",
              "      <th>15</th>\n",
              "      <td>4.510405</td>\n",
              "    </tr>\n",
              "    <tr>\n",
              "      <th>16</th>\n",
              "      <td>7.547028</td>\n",
              "    </tr>\n",
              "    <tr>\n",
              "      <th>17</th>\n",
              "      <td>10.438161</td>\n",
              "    </tr>\n",
              "    <tr>\n",
              "      <th>18</th>\n",
              "      <td>8.861296</td>\n",
              "    </tr>\n",
              "    <tr>\n",
              "      <th>19</th>\n",
              "      <td>9.270148</td>\n",
              "    </tr>\n",
              "    <tr>\n",
              "      <th>20</th>\n",
              "      <td>6.711129</td>\n",
              "    </tr>\n",
              "    <tr>\n",
              "      <th>21</th>\n",
              "      <td>8.678720</td>\n",
              "    </tr>\n",
              "    <tr>\n",
              "      <th>22</th>\n",
              "      <td>8.678720</td>\n",
              "    </tr>\n",
              "    <tr>\n",
              "      <th>23</th>\n",
              "      <td>6.271392</td>\n",
              "    </tr>\n",
              "    <tr>\n",
              "      <th>24</th>\n",
              "      <td>8.356760</td>\n",
              "    </tr>\n",
              "    <tr>\n",
              "      <th>25</th>\n",
              "      <td>7.913407</td>\n",
              "    </tr>\n",
              "    <tr>\n",
              "      <th>26</th>\n",
              "      <td>8.615840</td>\n",
              "    </tr>\n",
              "    <tr>\n",
              "      <th>27</th>\n",
              "      <td>8.471398</td>\n",
              "    </tr>\n",
              "    <tr>\n",
              "      <th>28</th>\n",
              "      <td>2.238639</td>\n",
              "    </tr>\n",
              "    <tr>\n",
              "      <th>29</th>\n",
              "      <td>1.826593</td>\n",
              "    </tr>\n",
              "    <tr>\n",
              "      <th>30</th>\n",
              "      <td>4.464442</td>\n",
              "    </tr>\n",
              "    <tr>\n",
              "      <th>31</th>\n",
              "      <td>0.322884</td>\n",
              "    </tr>\n",
              "    <tr>\n",
              "      <th>32</th>\n",
              "      <td>0.327189</td>\n",
              "    </tr>\n",
              "    <tr>\n",
              "      <th>33</th>\n",
              "      <td>5.967737</td>\n",
              "    </tr>\n",
              "    <tr>\n",
              "      <th>34</th>\n",
              "      <td>8.532000</td>\n",
              "    </tr>\n",
              "    <tr>\n",
              "      <th>35</th>\n",
              "      <td>8.920808</td>\n",
              "    </tr>\n",
              "    <tr>\n",
              "      <th>36</th>\n",
              "      <td>3.834084</td>\n",
              "    </tr>\n",
              "    <tr>\n",
              "      <th>37</th>\n",
              "      <td>3.992649</td>\n",
              "    </tr>\n",
              "    <tr>\n",
              "      <th>38</th>\n",
              "      <td>6.637140</td>\n",
              "    </tr>\n",
              "  </tbody>\n",
              "</table>\n",
              "</div>"
            ],
            "text/plain": [
              "    prediction\n",
              "0    20.961949\n",
              "1    15.136984\n",
              "2     4.582478\n",
              "3     4.582478\n",
              "4    11.289267\n",
              "5    10.212428\n",
              "6     9.654252\n",
              "7    11.368263\n",
              "8    11.392615\n",
              "9     6.681911\n",
              "10    9.793426\n",
              "11    9.245832\n",
              "12   12.162120\n",
              "13   10.132270\n",
              "14    9.224872\n",
              "15    4.510405\n",
              "16    7.547028\n",
              "17   10.438161\n",
              "18    8.861296\n",
              "19    9.270148\n",
              "20    6.711129\n",
              "21    8.678720\n",
              "22    8.678720\n",
              "23    6.271392\n",
              "24    8.356760\n",
              "25    7.913407\n",
              "26    8.615840\n",
              "27    8.471398\n",
              "28    2.238639\n",
              "29    1.826593\n",
              "30    4.464442\n",
              "31    0.322884\n",
              "32    0.327189\n",
              "33    5.967737\n",
              "34    8.532000\n",
              "35    8.920808\n",
              "36    3.834084\n",
              "37    3.992649\n",
              "38    6.637140"
            ]
          },
          "metadata": {},
          "execution_count": 46
        }
      ]
    }
  ]
}