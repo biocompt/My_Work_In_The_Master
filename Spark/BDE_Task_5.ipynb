{
  "nbformat": 4,
  "nbformat_minor": 0,
  "metadata": {
    "colab": {
      "name": "Task 6 - Hack_attack.ipynb",
      "provenance": [],
      "collapsed_sections": []
    },
    "kernelspec": {
      "display_name": "Python 3",
      "name": "python3"
    },
    "language_info": {
      "name": "python"
    }
  },
  "cells": [
    {
      "cell_type": "markdown",
      "metadata": {
        "id": "48gUDzmCZW4Q"
      },
      "source": [
        "In this work, we will try to predict the exact number of hackers that attack the company. The start-up isn't sure if there were 2 or 3 hackers, that's why they hire our service to try to predict the exact number."
      ]
    },
    {
      "cell_type": "markdown",
      "metadata": {
        "id": "_Z49E__1bgAK"
      },
      "source": [
        "First, let's run Spark in Colab"
      ]
    },
    {
      "cell_type": "code",
      "metadata": {
        "id": "qyWjqitA2ie8"
      },
      "source": [
        "!apt-get install openjdk-8-jdk-headless -qq > /dev/null\n",
        "!wget -q https://mirrors.sonic.net/apache/spark/spark-3.1.2/spark-3.1.2-bin-hadoop3.2.tgz\n",
        "!tar xzf spark-3.1.2-bin-hadoop3.2.tgz\n",
        "!pip install -q findspark\n",
        "\n",
        "\n",
        "import os\n",
        "os.environ[\"JAVA_HOME\"] = \"/usr/lib/jvm/java-8-openjdk-amd64\"\n",
        "os.environ[\"SPARK_HOME\"] = \"/content/spark-3.1.2-bin-hadoop3.2\"\n",
        "\n",
        "\n",
        "import findspark\n",
        "findspark.init()\n",
        "from pyspark.sql import SparkSession\n",
        "spark = SparkSession.builder.master(\"local[*]\").getOrCreate()"
      ],
      "execution_count": null,
      "outputs": []
    },
    {
      "cell_type": "markdown",
      "metadata": {
        "id": "ADNOmuoBchJc"
      },
      "source": [
        "Once we install Spark in our Colab, it is time to import all the functions that we need to do this exercise:"
      ]
    },
    {
      "cell_type": "code",
      "metadata": {
        "id": "RorBpkS9cgqi"
      },
      "source": [
        "from pyspark.ml.feature import VectorAssembler\n",
        "from pyspark.ml.clustering import KMeans\n",
        "from pyspark.ml.evaluation import ClusteringEvaluator"
      ],
      "execution_count": null,
      "outputs": []
    },
    {
      "cell_type": "markdown",
      "metadata": {
        "id": "98ivNZGgblch"
      },
      "source": [
        "Once we import all the needed functions, let's load our database."
      ]
    },
    {
      "cell_type": "code",
      "metadata": {
        "id": "asT2wdoebtLT"
      },
      "source": [
        "df = spark.read.options(header = True, inferSchema = True).csv('drive/MyDrive/Colab Notebooks/hack_data.csv')"
      ],
      "execution_count": null,
      "outputs": []
    },
    {
      "cell_type": "markdown",
      "metadata": {
        "id": "0vv0iY9Gb-ij"
      },
      "source": [
        "Let's check all the columns and their type, so we can know if it needs to do some indexing or not."
      ]
    },
    {
      "cell_type": "code",
      "metadata": {
        "colab": {
          "base_uri": "https://localhost:8080/"
        },
        "id": "2ybpJQux21EJ",
        "outputId": "31b4ed2e-4d36-41c1-b544-59ccb96114a1"
      },
      "source": [
        "df.printSchema()"
      ],
      "execution_count": null,
      "outputs": [
        {
          "output_type": "stream",
          "name": "stdout",
          "text": [
            "root\n",
            " |-- Session_Connection_Time: double (nullable = true)\n",
            " |-- Bytes Transferred: double (nullable = true)\n",
            " |-- Kali_Trace_Used: integer (nullable = true)\n",
            " |-- Servers_Corrupted: double (nullable = true)\n",
            " |-- Pages_Corrupted: double (nullable = true)\n",
            " |-- Location: string (nullable = true)\n",
            " |-- WPM_Typing_Speed: double (nullable = true)\n",
            "\n"
          ]
        }
      ]
    },
    {
      "cell_type": "markdown",
      "metadata": {
        "id": "6SG6_MlkcFoy"
      },
      "source": [
        "It isn't needed, because the only column that needs indexing is Location, and we know that hackers use VPN's, so it will be useless to use it.\n",
        "\n",
        "Now, I will  check for the column names to be able to copy them to do the assembler (so I don't have to write it by hand)."
      ]
    },
    {
      "cell_type": "code",
      "metadata": {
        "colab": {
          "base_uri": "https://localhost:8080/"
        },
        "id": "bP4NH9jxVkR5",
        "outputId": "bcccf6bd-0a64-442a-ff43-2070cc8094fb"
      },
      "source": [
        "df.columns"
      ],
      "execution_count": null,
      "outputs": [
        {
          "output_type": "execute_result",
          "data": {
            "text/plain": [
              "['Session_Connection_Time',\n",
              " 'Bytes Transferred',\n",
              " 'Kali_Trace_Used',\n",
              " 'Servers_Corrupted',\n",
              " 'Pages_Corrupted',\n",
              " 'Location',\n",
              " 'WPM_Typing_Speed']"
            ]
          },
          "metadata": {},
          "execution_count": 129
        }
      ]
    },
    {
      "cell_type": "markdown",
      "metadata": {
        "id": "yo5KaBKbcbcT"
      },
      "source": [
        "Let's time to do the assembler, needed to create the column features that the model will use to make the predictions."
      ]
    },
    {
      "cell_type": "code",
      "metadata": {
        "id": "FqOW-PIOVfHI"
      },
      "source": [
        "assembler = VectorAssembler(inputCols=('Session_Connection_Time', 'Bytes Transferred',  'Kali_Trace_Used',\n",
        "                            'Servers_Corrupted', 'Pages_Corrupted', 'WPM_Typing_Speed'),\n",
        "                            outputCol = 'features')\n",
        "\n",
        "final_df = assembler.transform(df);\n",
        "db = final_df.select('features') # Just take the needed column to run the model"
      ],
      "execution_count": null,
      "outputs": []
    },
    {
      "cell_type": "markdown",
      "metadata": {
        "id": "u7gcSli7eGZL"
      },
      "source": [
        "Now, let's create our model. First, with **k=2** "
      ]
    },
    {
      "cell_type": "code",
      "metadata": {
        "id": "jcmNNnS1XKvC"
      },
      "source": [
        "kmeans = KMeans(k=2, seed= None) # No matter I put seed = 1 or seed = None, silhouette value remains the same\n",
        "k2 = kmeans.fit(db)\n",
        "k2_pred = k2.transform(db)"
      ],
      "execution_count": null,
      "outputs": []
    },
    {
      "cell_type": "code",
      "metadata": {
        "colab": {
          "base_uri": "https://localhost:8080/"
        },
        "id": "eJF849FEb-1z",
        "outputId": "c91e83fe-ce4b-4ec3-8bab-3a5146c734bb"
      },
      "source": [
        "k2_pred.show(5)"
      ],
      "execution_count": null,
      "outputs": [
        {
          "output_type": "stream",
          "name": "stdout",
          "text": [
            "+--------------------+----------+\n",
            "|            features|prediction|\n",
            "+--------------------+----------+\n",
            "|[8.0,391.09,1.0,2...|         1|\n",
            "|[20.0,720.99,0.0,...|         0|\n",
            "|[31.0,356.32,1.0,...|         1|\n",
            "|[2.0,228.08,1.0,2...|         1|\n",
            "|[20.0,408.5,0.0,3...|         1|\n",
            "+--------------------+----------+\n",
            "only showing top 5 rows\n",
            "\n"
          ]
        }
      ]
    },
    {
      "cell_type": "code",
      "metadata": {
        "colab": {
          "base_uri": "https://localhost:8080/"
        },
        "id": "vEKsJsAZ3Qo3",
        "outputId": "c471f844-cd90-4cd8-f179-b2f02b5bc815"
      },
      "source": [
        "evaluator = ClusteringEvaluator(metricName='silhouette', distanceMeasure='squaredEuclidean')\n",
        "k2_sil = evaluator.evaluate(k2_pred)\n",
        "\n",
        "print(\"The silhouette for k=2 is \" + str(k2_sil))"
      ],
      "execution_count": null,
      "outputs": [
        {
          "output_type": "stream",
          "name": "stdout",
          "text": [
            "The silhouette for k=2 is 0.8048521975748283\n"
          ]
        }
      ]
    },
    {
      "cell_type": "markdown",
      "metadata": {
        "id": "yOxX4DZsg9ey"
      },
      "source": [
        "Now, for **k=3**"
      ]
    },
    {
      "cell_type": "code",
      "metadata": {
        "id": "y-l6uAd_hArs"
      },
      "source": [
        "kmeans = KMeans(k=3, seed= None) # No matter I put seed = 1 or seed = None, silhouette value remains the same\n",
        "k3 = kmeans.fit(db)\n",
        "k3_pred = k3.transform(db)"
      ],
      "execution_count": null,
      "outputs": []
    },
    {
      "cell_type": "code",
      "metadata": {
        "colab": {
          "base_uri": "https://localhost:8080/"
        },
        "id": "YhSIueCXhlSe",
        "outputId": "0d661af6-e246-4d0f-ed66-26babdcb462c"
      },
      "source": [
        "k3_pred.show(5)"
      ],
      "execution_count": null,
      "outputs": [
        {
          "output_type": "stream",
          "name": "stdout",
          "text": [
            "+--------------------+----------+\n",
            "|            features|prediction|\n",
            "+--------------------+----------+\n",
            "|[8.0,391.09,1.0,2...|         0|\n",
            "|[20.0,720.99,0.0,...|         2|\n",
            "|[31.0,356.32,1.0,...|         0|\n",
            "|[2.0,228.08,1.0,2...|         0|\n",
            "|[20.0,408.5,0.0,3...|         0|\n",
            "+--------------------+----------+\n",
            "only showing top 5 rows\n",
            "\n"
          ]
        }
      ]
    },
    {
      "cell_type": "code",
      "metadata": {
        "colab": {
          "base_uri": "https://localhost:8080/"
        },
        "id": "rJtVUvHVhYjy",
        "outputId": "4f035412-f5e4-4227-8eb4-566bfedfc71e"
      },
      "source": [
        "k3_sil = evaluator.evaluate(k3_pred)\n",
        "\n",
        "print(\"The silhouette for k=3 is \" + str(k3_sil))"
      ],
      "execution_count": null,
      "outputs": [
        {
          "output_type": "stream",
          "name": "stdout",
          "text": [
            "The silhouette for k=2 is 0.6946221547026241\n"
          ]
        }
      ]
    },
    {
      "cell_type": "markdown",
      "metadata": {
        "id": "8-cDsaachszZ"
      },
      "source": [
        "As we can see, the silhouette value when k=3 is quite lower than silhouette value when k=2, so with this information we can conclude that there were 3 the number of hackers that attack the company."
      ]
    }
  ]
}